{
  "cells": [
    {
      "cell_type": "code",
      "execution_count": 5,
      "metadata": {
        "id": "IMJZ0xDpGOm7"
      },
      "outputs": [],
      "source": [
        "!pip freeze > requirements.txt"
      ]
    },
    {
      "cell_type": "code",
      "execution_count": 2,
      "metadata": {
        "colab": {
          "base_uri": "https://localhost:8080/",
          "height": 404
        },
        "id": "-aQc7sMHAmpK",
        "outputId": "cda9d571-2138-45dd-9113-a8b28408af22"
      },
      "outputs": [
        {
          "ename": "ModuleNotFoundError",
          "evalue": "No module named 'segmentation_models_pytorch'",
          "output_type": "error",
          "traceback": [
            "\u001b[0;31m---------------------------------------------------------------------------\u001b[0m",
            "\u001b[0;31mModuleNotFoundError\u001b[0m                       Traceback (most recent call last)",
            "\u001b[0;32m/tmp/ipython-input-3590937323.py\u001b[0m in \u001b[0;36m<cell line: 0>\u001b[0;34m()\u001b[0m\n\u001b[1;32m      9\u001b[0m \u001b[0;32mfrom\u001b[0m \u001b[0mtorch\u001b[0m\u001b[0;34m.\u001b[0m\u001b[0moptim\u001b[0m\u001b[0;34m.\u001b[0m\u001b[0mlr_scheduler\u001b[0m \u001b[0;32mimport\u001b[0m \u001b[0mStepLR\u001b[0m\u001b[0;34m\u001b[0m\u001b[0;34m\u001b[0m\u001b[0m\n\u001b[1;32m     10\u001b[0m \u001b[0;32mfrom\u001b[0m \u001b[0mtorch\u001b[0m\u001b[0;34m.\u001b[0m\u001b[0moptim\u001b[0m\u001b[0;34m.\u001b[0m\u001b[0mlr_scheduler\u001b[0m \u001b[0;32mimport\u001b[0m \u001b[0mReduceLROnPlateau\u001b[0m\u001b[0;34m\u001b[0m\u001b[0;34m\u001b[0m\u001b[0m\n\u001b[0;32m---> 11\u001b[0;31m \u001b[0;32mimport\u001b[0m \u001b[0msegmentation_models_pytorch\u001b[0m \u001b[0;32mas\u001b[0m \u001b[0msmp\u001b[0m\u001b[0;34m\u001b[0m\u001b[0;34m\u001b[0m\u001b[0m\n\u001b[0m\u001b[1;32m     12\u001b[0m \u001b[0;32mimport\u001b[0m \u001b[0malbumentations\u001b[0m \u001b[0;32mas\u001b[0m \u001b[0mA\u001b[0m\u001b[0;34m\u001b[0m\u001b[0;34m\u001b[0m\u001b[0m\n\u001b[1;32m     13\u001b[0m \u001b[0;32mfrom\u001b[0m \u001b[0malbumentations\u001b[0m\u001b[0;34m.\u001b[0m\u001b[0mpytorch\u001b[0m \u001b[0;32mimport\u001b[0m \u001b[0mToTensorV2\u001b[0m\u001b[0;34m\u001b[0m\u001b[0;34m\u001b[0m\u001b[0m\n",
            "\u001b[0;31mModuleNotFoundError\u001b[0m: No module named 'segmentation_models_pytorch'",
            "",
            "\u001b[0;31m---------------------------------------------------------------------------\u001b[0;32m\nNOTE: If your import is failing due to a missing package, you can\nmanually install dependencies using either !pip or !apt.\n\nTo view examples of installing some common dependencies, click the\n\"Open Examples\" button below.\n\u001b[0;31m---------------------------------------------------------------------------\u001b[0m\n"
          ]
        }
      ],
      "source": [
        "import torch\n",
        "import torch.nn as nn\n",
        "import torch.optim as optim\n",
        "from torch.utils.data import DataLoader\n",
        "from torchvision import models\n",
        "from torchvision import transforms\n",
        "import torch.nn.functional as F\n",
        "from torch.utils.data import Dataset\n",
        "from torch.optim.lr_scheduler import StepLR\n",
        "from torch.optim.lr_scheduler import ReduceLROnPlateau\n",
        "import segmentation_models_pytorch as smp\n",
        "import albumentations as A\n",
        "from albumentations.pytorch import ToTensorV2\n",
        "\n",
        "from tqdm import tqdm\n",
        "from sklearn.model_selection import train_test_split\n",
        "import os\n",
        "from PIL import Image\n",
        "import numpy as np\n",
        "import rasterio\n"
      ]
    },
    {
      "cell_type": "code",
      "execution_count": null,
      "metadata": {
        "id": "W5wq1qqNAlaL"
      },
      "outputs": [],
      "source": [
        "DEVICE = \"cuda\" if torch.cuda.is_available() else \"cpu\"\n",
        "IMAGE_HEIGHT = 352\n",
        "IMAGE_WIDTH = 352\n",
        "PIN_MEMORY = True\n",
        "TRAIN_DIR = os.path.join(\"dataset\", \"train\")\n",
        "TEST_DIR = os.path.join(\"dataset\", \"test\")\n",
        "BATCH_SIZE = 2"
      ]
    },
    {
      "cell_type": "markdown",
      "metadata": {
        "id": "dWXVe8sBXJi6"
      },
      "source": [
        "### Dataset"
      ]
    },
    {
      "cell_type": "code",
      "execution_count": null,
      "metadata": {
        "id": "4u1-ZlHVAx8-"
      },
      "outputs": [],
      "source": [
        "class SentinelDataset(Dataset):\n",
        "    def __init__(self, root_dir, transform=None):\n",
        "        self.root_dir = root_dir\n",
        "        self.transform = transform\n",
        "        self.files = []\n",
        "\n",
        "        # Walk through the root directory (e.g., 'dataset_new/train')\n",
        "        for date_folder in sorted(os.listdir(root_dir)):\n",
        "            date_path = os.path.join(root_dir, date_folder)\n",
        "            if not os.path.isdir(date_path):\n",
        "                continue\n",
        "\n",
        "            img_vh_dir = os.path.join(date_path, 'img/vh_decibel')\n",
        "            img_vv_dir = os.path.join(date_path, 'img/vv_decibel')\n",
        "            mask_dir = os.path.join(date_path, 'mask')\n",
        "\n",
        "            # Check if the directories exist and contain files\n",
        "            if not os.path.isdir(img_vh_dir) or not os.listdir(img_vh_dir):\n",
        "                print(f\"Warning: No VH images found in {img_vh_dir}. Skipping {date_folder}.\")\n",
        "                continue\n",
        "            if not os.path.isdir(img_vv_dir) or not os.listdir(img_vv_dir):\n",
        "                print(f\"Warning: No VV images found in {img_vv_dir}. Skipping {date_folder}.\")\n",
        "                continue\n",
        "            if not os.path.isdir(mask_dir) or not os.listdir(mask_dir):\n",
        "                print(f\"Warning: No mask files found in {mask_dir}. Skipping {date_folder}.\")\n",
        "                continue\n",
        "\n",
        "            for i in range(len(os.listdir(img_vh_dir))):\n",
        "                img_vh_file = os.path.join(img_vh_dir, os.listdir(img_vh_dir)[i])\n",
        "                img_vv_file = os.path.join(img_vv_dir, os.listdir(img_vv_dir)[i])\n",
        "                mask_file = os.path.join(mask_dir, os.listdir(mask_dir)[i])\n",
        "                self.files.append((img_vh_file, img_vv_file, mask_file))\n",
        "\n",
        "\n",
        "    def __len__(self):\n",
        "        return len(self.files)\n",
        "\n",
        "    def __getitem__(self, index):\n",
        "        img_vh_path, img_vv_path, mask_path = self.files[index]\n",
        "\n",
        "        # Load VH and VV images using rasterio\n",
        "        with rasterio.open(img_vh_path) as src:\n",
        "            img_vh_image = src.read(1).astype(np.float32)\n",
        "        with rasterio.open(img_vv_path) as src:\n",
        "            img_vv_image = src.read(1).astype(np.float32)\n",
        "\n",
        "        # Calculate the ratio (VH/VV) and handle division by zero\n",
        "        # Add a small epsilon to the denominator to avoid division by zero\n",
        "        ratio_image = np.divide(img_vv_image, img_vh_image + 1e-8).astype(np.float32)\n",
        "        # ratio_image = ((img_vh_image + img_vv_image) / 2).astype(np.float32)\n",
        "        # ratio_image = np.divide(\n",
        "        #     np.subtract(img_vv_image, img_vh_image),\n",
        "        #     np.add(img_vv_image, img_vh_image) + 1e-8\n",
        "        # ).astype(np.float32)\n",
        "\n",
        "\n",
        "        # Load mask using rasterio and map values from [0, 255] to [0, 1]\n",
        "        with rasterio.open(mask_path) as src:\n",
        "            # Load mask as integer type\n",
        "            mask_image = src.read(1)\n",
        "\n",
        "\n",
        "        # Stack images to create a 3-channel input (H, W, 3)\n",
        "        image = np.stack([img_vh_image, img_vv_image, ratio_image], axis=-1)\n",
        "        mask = np.array(mask_image, dtype = np.float32)\n",
        "\n",
        "        if self.transform is not None:\n",
        "            # Apply transform to image and mask\n",
        "            augmentations = self.transform(image=image, mask=mask)\n",
        "            image = augmentations[\"image\"]\n",
        "            mask = augmentations[\"mask\"]\n",
        "\n",
        "\n",
        "        return image, mask"
      ]
    },
    {
      "cell_type": "markdown",
      "metadata": {
        "id": "Mrxaf0BZtn15"
      },
      "source": [
        "### DeepLabV3+ UNet"
      ]
    },
    {
      "cell_type": "code",
      "execution_count": null,
      "metadata": {
        "colab": {
          "base_uri": "https://localhost:8080/"
        },
        "id": "H5SnyS9Lvcr-",
        "outputId": "adfbb74f-df88-4a30-ea00-f72376752982"
      },
      "outputs": [
        {
          "name": "stdout",
          "output_type": "stream",
          "text": [
            "Output shape: torch.Size([2, 1, 352, 352])\n"
          ]
        }
      ],
      "source": [
        "import torch\n",
        "import torch.nn as nn\n",
        "import segmentation_models_pytorch as smp\n",
        "\n",
        "class DeepLabUNet352_Binary(nn.Module):\n",
        "    def __init__(self):\n",
        "        super().__init__()\n",
        "        self.model = smp.DeepLabV3Plus(\n",
        "            encoder_name=\"efficientnet-b4\",  # Slightly more capacity\n",
        "            encoder_weights=\"imagenet\",\n",
        "            in_channels=3,\n",
        "            classes=1,\n",
        "            decoder_use_batchnorm=True,  # Add BN\n",
        "            decoder_attention_type=\"scse\",  # Spatial/channel attention\n",
        "            decoder_dropout=0.1,  # Increased dropout\n",
        "            activation=None\n",
        "        )\n",
        "        # Add spatial regularization\n",
        "        self.spatial_dropout = nn.Dropout2d(0.3)\n",
        "\n",
        "    def forward(self, x):\n",
        "        x = self.model(x)\n",
        "        return self.spatial_dropout(x)\n",
        "\n",
        "# Test with your input shape\n",
        "if __name__ == \"__main__\":\n",
        "    model = DeepLabUNet352_Binary()\n",
        "    dummy_image = torch.randn(2, 3, 352, 352)      # Simulate one RGB image\n",
        "    output = model(dummy_image)\n",
        "    print(f\"Output shape: {output.shape}\")         # Expect [1, 1, 352, 352]\n"
      ]
    },
    {
      "cell_type": "markdown",
      "metadata": {
        "id": "BO13nd2FWIAB"
      },
      "source": [
        "### Training Functions"
      ]
    },
    {
      "cell_type": "code",
      "execution_count": null,
      "metadata": {
        "id": "_TZjyDbHoBoP"
      },
      "outputs": [],
      "source": [
        "def train_fn(loader, model, optimizer, loss_fn, scaler):\n",
        "    loop = tqdm(loader)\n",
        "    total_loss = 0.0  # Initialize total loss for the epoch\n",
        "\n",
        "    for batch_idx, (data, targets) in enumerate(loop):\n",
        "        data = data.to(DEVICE)\n",
        "        targets = targets.float().to(DEVICE).unsqueeze(1) # Change dtype to long and remove unsqueeze(1)\n",
        "\n",
        "        # forward\n",
        "        predictions = model(data)\n",
        "        loss = loss_fn(predictions, targets)\n",
        "\n",
        "        # backward\n",
        "        optimizer.zero_grad()\n",
        "        scaler.scale(loss).backward()\n",
        "        scaler.step(optimizer)\n",
        "        scaler.update()\n",
        "\n",
        "        # update tqdm loop\n",
        "        loop.set_postfix(loss=loss.item())\n",
        "\n",
        "        total_loss += loss.item()  # Accumulate loss for the epoch\n",
        "\n",
        "    avg_loss = total_loss / len(loader)  # Calculate average loss for the epoch\n",
        "    return avg_loss # Return the average training loss for the epoch"
      ]
    },
    {
      "cell_type": "code",
      "execution_count": null,
      "metadata": {
        "id": "2c1ff534"
      },
      "outputs": [],
      "source": [
        "def check_accuracy(loader, model, loss_fn, device, n_class):\n",
        "    num_correct = 0\n",
        "    num_pixels = 0\n",
        "    total_loss = 0\n",
        "    num_batches = 0\n",
        "\n",
        "    # Initialize lists to store per-class metrics\n",
        "    num_classes = n_class\n",
        "    class_true_positives = [0] * num_classes\n",
        "    class_false_positives = [0] * num_classes\n",
        "    class_false_negatives = [0] * num_classes\n",
        "    class_intersections = [0] * num_classes\n",
        "    class_unions = [0] * num_classes\n",
        "    class_correct_pixels = [0] * num_classes\n",
        "    class_total_pixels = [0] * num_classes\n",
        "\n",
        "    model.eval()\n",
        "\n",
        "    with torch.no_grad():\n",
        "        for x, y in loader:\n",
        "            x = x.to(device)\n",
        "            y = y.to(device).long()\n",
        "            predictions = model(x).to(device)\n",
        "            loss = loss_fn(predictions, y).to(device)\n",
        "\n",
        "            if not torch.isnan(loss):\n",
        "                total_loss += loss.item()\n",
        "                num_batches += 1\n",
        "\n",
        "            preds = torch.argmax(predictions, dim=1)\n",
        "\n",
        "            num_correct += (preds == y).sum()\n",
        "            num_pixels += torch.numel(preds)\n",
        "\n",
        "            # Calculate per-class metrics\n",
        "            for class_idx in range(num_classes):\n",
        "                true_positives = ((preds == class_idx) & (y == class_idx)).sum().item()\n",
        "                false_positives = ((preds == class_idx) & (y != class_idx)).sum().item()\n",
        "                false_negatives = ((preds != class_idx) & (y == class_idx)).sum().item()\n",
        "                intersection = true_positives\n",
        "                union = true_positives + false_positives + false_negatives\n",
        "\n",
        "                class_true_positives[class_idx] += true_positives\n",
        "                class_false_positives[class_idx] += false_positives\n",
        "                class_false_negatives[class_idx] += false_negatives\n",
        "                class_intersections[class_idx] += intersection\n",
        "                class_unions[class_idx] += union\n",
        "                class_correct_pixels[class_idx] += (preds[y == class_idx] == class_idx).sum().item()\n",
        "                class_total_pixels[class_idx] += (y == class_idx).sum().item()\n",
        "\n",
        "\n",
        "    accuracy = num_correct / num_pixels * 100 if num_pixels > 0 else float('nan')\n",
        "    avg_loss = total_loss / num_batches if num_batches > 0 else float('nan')\n",
        "\n",
        "    # Calculate per-class and averaged metrics\n",
        "    class_dice_scores = [\n",
        "        (2 * class_intersections[i]) / (class_true_positives[i] + class_false_positives[i] + class_true_positives[i] + class_false_negatives[i] + 1e-8) if (class_true_positives[i] + class_false_positives[i] + class_true_positives[i] + class_false_negatives[i]) > 0 else float('nan')\n",
        "        for i in range(num_classes)\n",
        "    ]\n",
        "    class_iou_scores = [\n",
        "        class_intersections[i] / (class_unions[i] + 1e-8) if class_unions[i] > 0 else float('nan')\n",
        "        for i in range(num_classes)\n",
        "    ]\n",
        "    class_precisions = [\n",
        "        class_true_positives[i] / (class_true_positives[i] + class_false_positives[i] + 1e-8) if (class_true_positives[i] + class_false_positives[i]) > 0 else float('nan')\n",
        "        for i in range(num_classes)\n",
        "    ]\n",
        "    class_recalls = [\n",
        "        class_true_positives[i] / (class_true_positives[i] + class_false_negatives[i] + 1e-8) if (class_true_positives[i] + class_false_negatives[i]) > 0 else float('nan')\n",
        "        for i in range(num_classes)\n",
        "    ]\n",
        "    class_f1_scores = [\n",
        "        2 * (class_precisions[i] * class_recalls[i]) / (class_precisions[i] + class_recalls[i] + 1e-8) if (class_precisions[i] + class_recalls[i]) > 0 else float('nan')\n",
        "        for i in range(num_classes)\n",
        "    ]\n",
        "    class_accuracies = [\n",
        "        class_correct_pixels[i] / (class_total_pixels[i] + 1e-8) * 100 if class_total_pixels[i] > 0 else float('nan')\n",
        "        for i in range(num_classes)\n",
        "    ]\n",
        "\n",
        "\n",
        "    print(f\"Overall Accuracy: {accuracy:.2f}\")\n",
        "    print(f\"Average Validation Loss: {avg_loss:.4f}\")\n",
        "\n",
        "    # Print per-class metrics\n",
        "    for i in range(num_classes):\n",
        "        print(f\"Class {i} - Accuracy: {class_accuracies[i]:.2f}, Dice: {class_dice_scores[i]:.4f}, IoU: {class_iou_scores[i]:.4f}, Precision: {class_precisions[i]:.4f}, Recall: {class_recalls[i]:.4f}, F1 Score: {class_f1_scores[i]:.4f}\")\n",
        "\n",
        "\n",
        "    model.train()\n",
        "    # Return per-class metrics and overall loss\n",
        "    return class_accuracies, class_dice_scores, class_iou_scores, avg_loss, class_precisions, class_recalls, class_f1_scores"
      ]
    },
    {
      "cell_type": "markdown",
      "metadata": {
        "id": "AsLUCCo2qjEW"
      },
      "source": [
        "### Check Accuracy\n"
      ]
    },
    {
      "cell_type": "code",
      "execution_count": null,
      "metadata": {
        "id": "ZdLvbTSJqiPk"
      },
      "outputs": [],
      "source": [
        "def check_accuracy(loader, model, loss_fn, device):\n",
        "    num_correct = 0\n",
        "    num_pixels = 0\n",
        "    total_loss = 0\n",
        "    num_batches = 0\n",
        "\n",
        "    true_positives = 0\n",
        "    false_positives = 0\n",
        "    false_negatives = 0\n",
        "    true_negatives = 0\n",
        "\n",
        "    model.eval()\n",
        "\n",
        "    with torch.no_grad():\n",
        "        for x, y in loader:\n",
        "            x = x.to(device)\n",
        "            y = y.to(device).float().unsqueeze(1)  # Expecting shape [B, 1, H, W]\n",
        "\n",
        "            predictions = model(x)\n",
        "            loss = loss_fn(predictions, y)\n",
        "\n",
        "            if not torch.isnan(loss):\n",
        "                total_loss += loss.item()\n",
        "                num_batches += 1\n",
        "\n",
        "            # Convert logits -> probabilities -> binary mask\n",
        "            probs = torch.sigmoid(predictions)\n",
        "            preds = (probs > 0.47).float()\n",
        "\n",
        "            # Count correct\n",
        "            num_correct += (preds == y).sum().item()\n",
        "            num_pixels += torch.numel(preds)\n",
        "\n",
        "            # Compute TP, FP, FN, TN\n",
        "            true_positives += ((preds == 1) & (y == 1)).sum().item()\n",
        "            false_positives += ((preds == 1) & (y == 0)).sum().item()\n",
        "            false_negatives += ((preds == 0) & (y == 1)).sum().item()\n",
        "            true_negatives += ((preds == 0) & (y == 0)).sum().item()\n",
        "\n",
        "    accuracy = num_correct / num_pixels * 100 if num_pixels > 0 else float('nan')\n",
        "    avg_loss = total_loss / num_batches if num_batches > 0 else float('nan')\n",
        "\n",
        "    intersection = true_positives\n",
        "    union = true_positives + false_positives + false_negatives\n",
        "    dice = (2 * intersection) / (2 * intersection + false_positives + false_negatives + 1e-8)\n",
        "    iou = intersection / (union + 1e-8)\n",
        "    precision = true_positives / (true_positives + false_positives + 1e-8)\n",
        "    recall = true_positives / (true_positives + false_negatives + 1e-8)\n",
        "    f1 = 2 * (precision * recall) / (precision + recall + 1e-8)\n",
        "\n",
        "    print(f\"Overall Accuracy: {accuracy:.2f}\")\n",
        "    print(f\"Average Validation Loss: {avg_loss:.4f}\")\n",
        "    print(f\"Dice: {dice:.4f}, IoU: {iou:.4f}, Precision: {precision:.4f}, Recall: {recall:.4f}, F1 Score: {f1:.4f}\")\n",
        "    print(\"Preds sum:\", preds.sum().item())\n",
        "    print(\"Targets sum:\", y.sum().item())\n",
        "    print(\"Batch accuracy:\", (preds == y).float().mean().item())\n",
        "    print(\"Pred max/min:\", predictions.max().item(), predictions.min().item())\n",
        "\n",
        "    # best_thesh, best_score = find_best_threshold(y.cpu().numpy(), probs.cpu().numpy())\n",
        "    # print(f\"Best threshold: {best_thesh}, Best score: {best_score}\")\n",
        "\n",
        "\n",
        "    model.train()\n",
        "\n",
        "    return accuracy, avg_loss, dice, iou, precision, recall, f1\n"
      ]
    },
    {
      "cell_type": "markdown",
      "metadata": {
        "id": "BjUobgf0P9NM"
      },
      "source": [
        "### Loader"
      ]
    },
    {
      "cell_type": "code",
      "execution_count": null,
      "metadata": {
        "colab": {
          "base_uri": "https://localhost:8080/"
        },
        "id": "S13yuvAWP8fR",
        "outputId": "76a7f9bb-c982-4919-9c6f-68e096a6ef1f"
      },
      "outputs": [
        {
          "name": "stderr",
          "output_type": "stream",
          "text": [
            "/tmp/ipython-input-291700291.py:13: UserWarning: Argument(s) 'max_holes, max_height, max_width, fill_value' are not valid for transform CoarseDropout\n",
            "  A.CoarseDropout(\n"
          ]
        }
      ],
      "source": [
        "train_transform = A.Compose(\n",
        "    [\n",
        "        A.Rotate(limit=35, p=1.0),\n",
        "        A.HorizontalFlip(p=0.5),\n",
        "        A.VerticalFlip(p=0.1),\n",
        "        A.RandomBrightnessContrast(p=0.2), # Add brightness/contrast changes\n",
        "        A.RandomBrightnessContrast(p=0.3),\n",
        "        A.GaussNoise(p=0.2),\n",
        "        A.CoarseDropout(\n",
        "            max_holes=8,\n",
        "            max_height=32,\n",
        "            max_width=32,\n",
        "            fill_value=0,\n",
        "            p=0.5\n",
        "        ),\n",
        "        ToTensorV2(),\n",
        "    ]\n",
        ")\n",
        "\n",
        "val_transforms = A.Compose(\n",
        "    [\n",
        "        ToTensorV2(),\n",
        "    ],\n",
        ")\n",
        "\n",
        "\n",
        "train_ds = SentinelDataset(\n",
        "    root_dir=TRAIN_DIR,\n",
        "    transform=train_transform,\n",
        ")\n",
        "\n",
        "val_ds = SentinelDataset(\n",
        "    root_dir=TEST_DIR,\n",
        "    transform=val_transforms,\n",
        ")\n",
        "\n",
        "train_loader = DataLoader(\n",
        "    train_ds,\n",
        "    batch_size=BATCH_SIZE, # Use the BATCH_SIZE from the config\n",
        "    num_workers=0,\n",
        "    pin_memory=PIN_MEMORY,\n",
        "    shuffle=True,\n",
        ")\n",
        "\n",
        "val_loader = DataLoader(\n",
        "    val_ds,\n",
        "    batch_size=BATCH_SIZE,\n",
        "    num_workers=0,\n",
        "    pin_memory=PIN_MEMORY,\n",
        "    shuffle=False,\n",
        ")"
      ]
    },
    {
      "cell_type": "markdown",
      "metadata": {
        "id": "fx2Q3xZ7r5AG"
      },
      "source": [
        "### Training"
      ]
    },
    {
      "cell_type": "code",
      "execution_count": null,
      "metadata": {
        "colab": {
          "base_uri": "https://localhost:8080/"
        },
        "id": "rFfsYHzarJn_",
        "outputId": "4eb9d401-c79a-4b81-f645-c6c4f77d27ed"
      },
      "outputs": [
        {
          "name": "stdout",
          "output_type": "stream",
          "text": [
            "Epoch 1/100\n"
          ]
        },
        {
          "name": "stderr",
          "output_type": "stream",
          "text": [
            "100%|██████████| 135/135 [00:15<00:00,  8.92it/s, loss=0.335]\n"
          ]
        },
        {
          "name": "stdout",
          "output_type": "stream",
          "text": [
            "Overall Accuracy: 55.45\n",
            "Average Validation Loss: 0.3385\n",
            "Dice: 0.2218, IoU: 0.1248, Precision: 0.1524, Recall: 0.4074, F1 Score: 0.2218\n",
            "Preds sum: 49867.0\n",
            "Targets sum: 14825.0\n",
            "Batch accuracy: 0.5639204382896423\n",
            "Pred max/min: 0.4838901460170746 -1.620078206062317\n",
            "Epoch 2/100\n"
          ]
        },
        {
          "name": "stderr",
          "output_type": "stream",
          "text": [
            "100%|██████████| 135/135 [00:15<00:00,  8.92it/s, loss=0.341]\n"
          ]
        },
        {
          "name": "stdout",
          "output_type": "stream",
          "text": [
            "Overall Accuracy: 62.13\n",
            "Average Validation Loss: 0.3373\n",
            "Dice: 0.2503, IoU: 0.1431, Precision: 0.1810, Recall: 0.4057, F1 Score: 0.2503\n",
            "Preds sum: 42747.0\n",
            "Targets sum: 14825.0\n",
            "Batch accuracy: 0.5974786877632141\n",
            "Pred max/min: 0.2415335476398468 -3.168060779571533\n",
            "Epoch 3/100\n"
          ]
        },
        {
          "name": "stderr",
          "output_type": "stream",
          "text": [
            "100%|██████████| 135/135 [00:15<00:00,  8.98it/s, loss=0.332]\n"
          ]
        },
        {
          "name": "stdout",
          "output_type": "stream",
          "text": [
            "Overall Accuracy: 58.86\n",
            "Average Validation Loss: 0.3374\n",
            "Dice: 0.2544, IoU: 0.1457, Precision: 0.1772, Recall: 0.4503, F1 Score: 0.2544\n",
            "Preds sum: 69887.0\n",
            "Targets sum: 14825.0\n",
            "Batch accuracy: 0.4549005627632141\n",
            "Pred max/min: 0.1276596337556839 -3.2429656982421875\n",
            "Epoch 4/100\n"
          ]
        },
        {
          "name": "stderr",
          "output_type": "stream",
          "text": [
            "100%|██████████| 135/135 [00:14<00:00,  9.01it/s, loss=0.329]\n"
          ]
        },
        {
          "name": "stdout",
          "output_type": "stream",
          "text": [
            "Overall Accuracy: 54.31\n",
            "Average Validation Loss: 0.3359\n",
            "Dice: 0.2754, IoU: 0.1597, Precision: 0.1829, Recall: 0.5573, F1 Score: 0.2754\n",
            "Preds sum: 69216.0\n",
            "Targets sum: 14825.0\n",
            "Batch accuracy: 0.44354498386383057\n",
            "Pred max/min: 0.1582573801279068 -2.885692834854126\n",
            "Epoch 5/100\n"
          ]
        },
        {
          "name": "stderr",
          "output_type": "stream",
          "text": [
            "100%|██████████| 135/135 [00:14<00:00,  9.02it/s, loss=0.346]\n"
          ]
        },
        {
          "name": "stdout",
          "output_type": "stream",
          "text": [
            "Overall Accuracy: 54.04\n",
            "Average Validation Loss: 0.3350\n",
            "Dice: 0.2960, IoU: 0.1737, Precision: 0.1944, Recall: 0.6200, F1 Score: 0.2960\n",
            "Preds sum: 70946.0\n",
            "Targets sum: 14825.0\n",
            "Batch accuracy: 0.45452120900154114\n",
            "Pred max/min: 0.2640747129917145 -2.7416093349456787\n",
            "Epoch 6/100\n"
          ]
        },
        {
          "name": "stderr",
          "output_type": "stream",
          "text": [
            "100%|██████████| 135/135 [00:14<00:00,  9.07it/s, loss=0.324]\n"
          ]
        },
        {
          "name": "stdout",
          "output_type": "stream",
          "text": [
            "Overall Accuracy: 37.92\n",
            "Average Validation Loss: 0.3354\n",
            "Dice: 0.2862, IoU: 0.1670, Precision: 0.1743, Recall: 0.7984, F1 Score: 0.2862\n",
            "Preds sum: 92116.0\n",
            "Targets sum: 14825.0\n",
            "Batch accuracy: 0.3175280690193176\n",
            "Pred max/min: 0.21376822888851166 -2.6767117977142334\n",
            "Epoch 7/100\n"
          ]
        },
        {
          "name": "stderr",
          "output_type": "stream",
          "text": [
            "100%|██████████| 135/135 [00:14<00:00,  9.10it/s, loss=0.344]\n"
          ]
        },
        {
          "name": "stdout",
          "output_type": "stream",
          "text": [
            "Overall Accuracy: 55.35\n",
            "Average Validation Loss: 0.3330\n",
            "Dice: 0.3035, IoU: 0.1789, Precision: 0.2005, Recall: 0.6240, F1 Score: 0.3035\n",
            "Preds sum: 70089.0\n",
            "Targets sum: 14825.0\n",
            "Batch accuracy: 0.45509424805641174\n",
            "Pred max/min: 0.28036507964134216 -2.934391975402832\n",
            "Epoch 8/100\n"
          ]
        },
        {
          "name": "stderr",
          "output_type": "stream",
          "text": [
            "100%|██████████| 135/135 [00:15<00:00,  9.00it/s, loss=0.354]\n"
          ]
        },
        {
          "name": "stdout",
          "output_type": "stream",
          "text": [
            "Overall Accuracy: 53.30\n",
            "Average Validation Loss: 0.3322\n",
            "Dice: 0.3035, IoU: 0.1789, Precision: 0.1977, Recall: 0.6530, F1 Score: 0.3035\n",
            "Preds sum: 73179.0\n",
            "Targets sum: 14825.0\n",
            "Batch accuracy: 0.44720104336738586\n",
            "Pred max/min: 0.3149409592151642 -2.770026445388794\n",
            "Epoch 9/100\n"
          ]
        },
        {
          "name": "stderr",
          "output_type": "stream",
          "text": [
            "100%|██████████| 135/135 [00:14<00:00,  9.00it/s, loss=0.36]\n"
          ]
        },
        {
          "name": "stdout",
          "output_type": "stream",
          "text": [
            "Overall Accuracy: 47.70\n",
            "Average Validation Loss: 0.3339\n",
            "Dice: 0.2964, IoU: 0.1740, Precision: 0.1875, Recall: 0.7069, F1 Score: 0.2964\n",
            "Preds sum: 78055.0\n",
            "Targets sum: 14825.0\n",
            "Batch accuracy: 0.41680654883384705\n",
            "Pred max/min: 0.3016090989112854 -2.1111183166503906\n",
            "Epoch 10/100\n"
          ]
        },
        {
          "name": "stderr",
          "output_type": "stream",
          "text": [
            "100%|██████████| 135/135 [00:15<00:00,  8.96it/s, loss=0.34]\n"
          ]
        },
        {
          "name": "stdout",
          "output_type": "stream",
          "text": [
            "Overall Accuracy: 66.76\n",
            "Average Validation Loss: 0.3328\n",
            "Dice: 0.2942, IoU: 0.1725, Precision: 0.2199, Recall: 0.4446, F1 Score: 0.2942\n",
            "Preds sum: 47173.0\n",
            "Targets sum: 14825.0\n",
            "Batch accuracy: 0.5838068127632141\n",
            "Pred max/min: 0.28447386622428894 -2.0367019176483154\n",
            "Epoch 11/100\n"
          ]
        },
        {
          "name": "stderr",
          "output_type": "stream",
          "text": [
            "100%|██████████| 135/135 [00:15<00:00,  8.70it/s, loss=0.307]\n"
          ]
        },
        {
          "name": "stdout",
          "output_type": "stream",
          "text": [
            "Overall Accuracy: 57.99\n",
            "Average Validation Loss: 0.3317\n",
            "Dice: 0.3135, IoU: 0.1859, Precision: 0.2103, Recall: 0.6154, F1 Score: 0.3135\n",
            "Preds sum: 64707.0\n",
            "Targets sum: 14825.0\n",
            "Batch accuracy: 0.4719621539115906\n",
            "Pred max/min: 0.32879942655563354 -3.122483491897583\n",
            "Epoch 12/100\n"
          ]
        },
        {
          "name": "stderr",
          "output_type": "stream",
          "text": [
            "100%|██████████| 135/135 [00:15<00:00,  8.89it/s, loss=0.341]\n"
          ]
        },
        {
          "name": "stdout",
          "output_type": "stream",
          "text": [
            "Overall Accuracy: 47.20\n",
            "Average Validation Loss: 0.3341\n",
            "Dice: 0.2871, IoU: 0.1676, Precision: 0.1818, Recall: 0.6821, F1 Score: 0.2871\n",
            "Preds sum: 86911.0\n",
            "Targets sum: 14825.0\n",
            "Batch accuracy: 0.3588745892047882\n",
            "Pred max/min: 0.08858341723680496 -2.9951517581939697\n",
            "Epoch 13/100\n"
          ]
        },
        {
          "name": "stderr",
          "output_type": "stream",
          "text": [
            "100%|██████████| 135/135 [00:15<00:00,  8.94it/s, loss=0.331]\n"
          ]
        },
        {
          "name": "stdout",
          "output_type": "stream",
          "text": [
            "Overall Accuracy: 58.54\n",
            "Average Validation Loss: 0.3308\n",
            "Dice: 0.3090, IoU: 0.1827, Precision: 0.2087, Recall: 0.5949, F1 Score: 0.3090\n",
            "Preds sum: 65883.0\n",
            "Targets sum: 14825.0\n",
            "Batch accuracy: 0.4714617431163788\n",
            "Pred max/min: 0.27420511841773987 -2.358093500137329\n",
            "Epoch 14/100\n"
          ]
        },
        {
          "name": "stderr",
          "output_type": "stream",
          "text": [
            "100%|██████████| 135/135 [00:15<00:00,  8.78it/s, loss=0.3]\n"
          ]
        },
        {
          "name": "stdout",
          "output_type": "stream",
          "text": [
            "Overall Accuracy: 50.57\n",
            "Average Validation Loss: 0.3331\n",
            "Dice: 0.2991, IoU: 0.1758, Precision: 0.1920, Recall: 0.6767, F1 Score: 0.2991\n",
            "Preds sum: 70498.0\n",
            "Targets sum: 14825.0\n",
            "Batch accuracy: 0.45293936133384705\n",
            "Pred max/min: 0.18563981354236603 -1.9305096864700317\n",
            "Epoch 15/100\n"
          ]
        },
        {
          "name": "stderr",
          "output_type": "stream",
          "text": [
            "100%|██████████| 135/135 [00:15<00:00,  8.74it/s, loss=0.347]\n"
          ]
        },
        {
          "name": "stdout",
          "output_type": "stream",
          "text": [
            "Overall Accuracy: 65.64\n",
            "Average Validation Loss: 0.3306\n",
            "Dice: 0.3197, IoU: 0.1903, Precision: 0.2312, Recall: 0.5181, F1 Score: 0.3197\n",
            "Preds sum: 44509.0\n",
            "Targets sum: 14825.0\n",
            "Batch accuracy: 0.5641463994979858\n",
            "Pred max/min: 0.31948456168174744 -1.8154186010360718\n",
            "Epoch 16/100\n"
          ]
        },
        {
          "name": "stderr",
          "output_type": "stream",
          "text": [
            "100%|██████████| 135/135 [00:15<00:00,  8.85it/s, loss=0.36]\n"
          ]
        },
        {
          "name": "stdout",
          "output_type": "stream",
          "text": [
            "Overall Accuracy: 62.68\n",
            "Average Validation Loss: 0.3311\n",
            "Dice: 0.3043, IoU: 0.1794, Precision: 0.2144, Recall: 0.5236, F1 Score: 0.3043\n",
            "Preds sum: 61936.0\n",
            "Targets sum: 14825.0\n",
            "Batch accuracy: 0.48058977723121643\n",
            "Pred max/min: 0.3163391351699829 -1.8421518802642822\n",
            "Epoch 17/100\n"
          ]
        },
        {
          "name": "stderr",
          "output_type": "stream",
          "text": [
            "100%|██████████| 135/135 [00:15<00:00,  8.89it/s, loss=0.338]\n"
          ]
        },
        {
          "name": "stdout",
          "output_type": "stream",
          "text": [
            "Overall Accuracy: 59.27\n",
            "Average Validation Loss: 0.3301\n",
            "Dice: 0.3221, IoU: 0.1919, Precision: 0.2174, Recall: 0.6209, F1 Score: 0.3221\n",
            "Preds sum: 63456.0\n",
            "Targets sum: 14825.0\n",
            "Batch accuracy: 0.47955673933029175\n",
            "Pred max/min: 0.3197191655635834 -2.0186822414398193\n",
            "Epoch 18/100\n"
          ]
        },
        {
          "name": "stderr",
          "output_type": "stream",
          "text": [
            "100%|██████████| 135/135 [00:15<00:00,  8.93it/s, loss=0.349]\n"
          ]
        },
        {
          "name": "stdout",
          "output_type": "stream",
          "text": [
            "Overall Accuracy: 44.85\n",
            "Average Validation Loss: 0.3323\n",
            "Dice: 0.3070, IoU: 0.1813, Precision: 0.1909, Recall: 0.7837, F1 Score: 0.3070\n",
            "Preds sum: 91030.0\n",
            "Targets sum: 14825.0\n",
            "Batch accuracy: 0.3214343190193176\n",
            "Pred max/min: 0.5112419128417969 -2.1759531497955322\n",
            "Epoch 19/100\n"
          ]
        },
        {
          "name": "stderr",
          "output_type": "stream",
          "text": [
            "100%|██████████| 135/135 [00:15<00:00,  8.85it/s, loss=0.339]\n"
          ]
        },
        {
          "name": "stdout",
          "output_type": "stream",
          "text": [
            "Overall Accuracy: 49.78\n",
            "Average Validation Loss: 0.3309\n",
            "Dice: 0.3140, IoU: 0.1862, Precision: 0.1994, Recall: 0.7374, F1 Score: 0.3140\n",
            "Preds sum: 84054.0\n",
            "Targets sum: 14825.0\n",
            "Batch accuracy: 0.33988410234451294\n",
            "Pred max/min: 0.3973822593688965 -2.3623130321502686\n",
            "Epoch 20/100\n"
          ]
        },
        {
          "name": "stderr",
          "output_type": "stream",
          "text": [
            "100%|██████████| 135/135 [00:15<00:00,  8.79it/s, loss=0.366]\n"
          ]
        },
        {
          "name": "stdout",
          "output_type": "stream",
          "text": [
            "Overall Accuracy: 53.61\n",
            "Average Validation Loss: 0.3321\n",
            "Dice: 0.3067, IoU: 0.1811, Precision: 0.1999, Recall: 0.6584, F1 Score: 0.3067\n",
            "Preds sum: 59717.0\n",
            "Targets sum: 14825.0\n",
            "Batch accuracy: 0.4840037226676941\n",
            "Pred max/min: 0.588230311870575 -2.024386405944824\n",
            "Epoch 21/100\n"
          ]
        },
        {
          "name": "stderr",
          "output_type": "stream",
          "text": [
            "100%|██████████| 135/135 [00:15<00:00,  8.88it/s, loss=0.345]\n"
          ]
        },
        {
          "name": "stdout",
          "output_type": "stream",
          "text": [
            "Overall Accuracy: 57.55\n",
            "Average Validation Loss: 0.3295\n",
            "Dice: 0.3112, IoU: 0.1843, Precision: 0.2083, Recall: 0.6154, F1 Score: 0.3112\n",
            "Preds sum: 50230.0\n",
            "Targets sum: 14825.0\n",
            "Batch accuracy: 0.5418307781219482\n",
            "Pred max/min: 0.5814807415008545 -2.254326343536377\n",
            "Epoch 22/100\n"
          ]
        },
        {
          "name": "stderr",
          "output_type": "stream",
          "text": [
            "100%|██████████| 135/135 [00:15<00:00,  8.84it/s, loss=0.329]\n"
          ]
        },
        {
          "name": "stdout",
          "output_type": "stream",
          "text": [
            "Overall Accuracy: 73.53\n",
            "Average Validation Loss: 0.3400\n",
            "Dice: 0.2952, IoU: 0.1732, Precision: 0.2523, Recall: 0.3557, F1 Score: 0.2952\n",
            "Preds sum: 34468.0\n",
            "Targets sum: 14825.0\n",
            "Batch accuracy: 0.6259442567825317\n",
            "Pred max/min: 0.3005940020084381 -2.562206983566284\n",
            "Epoch 23/100\n"
          ]
        },
        {
          "name": "stderr",
          "output_type": "stream",
          "text": [
            "100%|██████████| 135/135 [00:15<00:00,  8.91it/s, loss=0.325]\n"
          ]
        },
        {
          "name": "stdout",
          "output_type": "stream",
          "text": [
            "Overall Accuracy: 58.41\n",
            "Average Validation Loss: 0.3355\n",
            "Dice: 0.3055, IoU: 0.1803, Precision: 0.2065, Recall: 0.5868, F1 Score: 0.3055\n",
            "Preds sum: 68085.0\n",
            "Targets sum: 14825.0\n",
            "Batch accuracy: 0.4664255976676941\n",
            "Pred max/min: 0.09345781803131104 -1.7318048477172852\n",
            "Epoch 24/100\n"
          ]
        },
        {
          "name": "stderr",
          "output_type": "stream",
          "text": [
            "100%|██████████| 135/135 [00:15<00:00,  8.84it/s, loss=0.32]\n"
          ]
        },
        {
          "name": "stdout",
          "output_type": "stream",
          "text": [
            "Overall Accuracy: 57.90\n",
            "Average Validation Loss: 0.3303\n",
            "Dice: 0.3143, IoU: 0.1864, Precision: 0.2106, Recall: 0.6189, F1 Score: 0.3143\n",
            "Preds sum: 62600.0\n",
            "Targets sum: 14825.0\n",
            "Batch accuracy: 0.501815915107727\n",
            "Pred max/min: 0.28769025206565857 -3.0502614974975586\n",
            "Epoch 25/100\n"
          ]
        },
        {
          "name": "stderr",
          "output_type": "stream",
          "text": [
            "100%|██████████| 135/135 [00:15<00:00,  8.93it/s, loss=0.328]\n"
          ]
        },
        {
          "name": "stdout",
          "output_type": "stream",
          "text": [
            "Overall Accuracy: 76.58\n",
            "Average Validation Loss: 0.3295\n",
            "Dice: 0.3222, IoU: 0.1921, Precision: 0.2935, Recall: 0.3572, F1 Score: 0.3222\n",
            "Preds sum: 35826.0\n",
            "Targets sum: 14825.0\n",
            "Batch accuracy: 0.6616008877754211\n",
            "Pred max/min: 0.07828506082296371 -1.7486093044281006\n",
            "Epoch 26/100\n"
          ]
        },
        {
          "name": "stderr",
          "output_type": "stream",
          "text": [
            "100%|██████████| 135/135 [00:15<00:00,  8.88it/s, loss=0.323]\n"
          ]
        },
        {
          "name": "stdout",
          "output_type": "stream",
          "text": [
            "Overall Accuracy: 66.85\n",
            "Average Validation Loss: 0.3292\n",
            "Dice: 0.3230, IoU: 0.1926, Precision: 0.2369, Recall: 0.5074, F1 Score: 0.3230\n",
            "Preds sum: 46267.0\n",
            "Targets sum: 14825.0\n",
            "Batch accuracy: 0.6035801768302917\n",
            "Pred max/min: 0.3447781503200531 -2.3782474994659424\n",
            "Epoch 27/100\n"
          ]
        },
        {
          "name": "stderr",
          "output_type": "stream",
          "text": [
            "100%|██████████| 135/135 [00:15<00:00,  8.83it/s, loss=0.338]\n"
          ]
        },
        {
          "name": "stdout",
          "output_type": "stream",
          "text": [
            "Overall Accuracy: 57.71\n",
            "Average Validation Loss: 0.3321\n",
            "Dice: 0.2972, IoU: 0.1746, Precision: 0.2006, Recall: 0.5738, F1 Score: 0.2972\n",
            "Preds sum: 61287.0\n",
            "Targets sum: 14825.0\n",
            "Batch accuracy: 0.5204674601554871\n",
            "Pred max/min: 0.29733920097351074 -1.9461907148361206\n",
            "Epoch 28/100\n"
          ]
        },
        {
          "name": "stderr",
          "output_type": "stream",
          "text": [
            "100%|██████████| 135/135 [00:15<00:00,  8.80it/s, loss=0.329]\n"
          ]
        },
        {
          "name": "stdout",
          "output_type": "stream",
          "text": [
            "Overall Accuracy: 63.82\n",
            "Average Validation Loss: 0.3272\n",
            "Dice: 0.3304, IoU: 0.1979, Precision: 0.2322, Recall: 0.5728, F1 Score: 0.3304\n",
            "Preds sum: 48353.0\n",
            "Targets sum: 14825.0\n",
            "Batch accuracy: 0.5877776145935059\n",
            "Pred max/min: 0.24677219986915588 -2.1091785430908203\n",
            "Epoch 29/100\n"
          ]
        },
        {
          "name": "stderr",
          "output_type": "stream",
          "text": [
            "100%|██████████| 135/135 [00:15<00:00,  8.83it/s, loss=0.303]\n"
          ]
        },
        {
          "name": "stdout",
          "output_type": "stream",
          "text": [
            "Overall Accuracy: 67.48\n",
            "Average Validation Loss: 0.3273\n",
            "Dice: 0.3186, IoU: 0.1895, Precision: 0.2365, Recall: 0.4878, F1 Score: 0.3186\n",
            "Preds sum: 36176.0\n",
            "Targets sum: 14825.0\n",
            "Batch accuracy: 0.6372917294502258\n",
            "Pred max/min: 0.29603108763694763 -2.7638187408447266\n",
            "Epoch 30/100\n"
          ]
        },
        {
          "name": "stderr",
          "output_type": "stream",
          "text": [
            "100%|██████████| 135/135 [00:15<00:00,  8.82it/s, loss=0.303]\n"
          ]
        },
        {
          "name": "stdout",
          "output_type": "stream",
          "text": [
            "Overall Accuracy: 50.55\n",
            "Average Validation Loss: 0.3311\n",
            "Dice: 0.3033, IoU: 0.1787, Precision: 0.1943, Recall: 0.6906, F1 Score: 0.3033\n",
            "Preds sum: 71393.0\n",
            "Targets sum: 14825.0\n",
            "Batch accuracy: 0.46363312005996704\n",
            "Pred max/min: 0.3245377540588379 -2.6335160732269287\n",
            "Epoch 31/100\n"
          ]
        },
        {
          "name": "stderr",
          "output_type": "stream",
          "text": [
            "100%|██████████| 135/135 [00:15<00:00,  8.71it/s, loss=0.351]\n"
          ]
        },
        {
          "name": "stdout",
          "output_type": "stream",
          "text": [
            "Overall Accuracy: 52.03\n",
            "Average Validation Loss: 0.3407\n",
            "Dice: 0.2906, IoU: 0.1700, Precision: 0.1888, Recall: 0.6306, F1 Score: 0.2906\n",
            "Preds sum: 76157.0\n",
            "Targets sum: 14825.0\n",
            "Batch accuracy: 0.4214552938938141\n",
            "Pred max/min: -0.008782252669334412 -1.571758508682251\n",
            "Epoch 32/100\n"
          ]
        },
        {
          "name": "stderr",
          "output_type": "stream",
          "text": [
            "100%|██████████| 135/135 [00:15<00:00,  8.89it/s, loss=0.328]\n"
          ]
        },
        {
          "name": "stdout",
          "output_type": "stream",
          "text": [
            "Overall Accuracy: 69.42\n",
            "Average Validation Loss: 0.3293\n",
            "Dice: 0.3263, IoU: 0.1950, Precision: 0.2485, Recall: 0.4752, F1 Score: 0.3263\n",
            "Preds sum: 33503.0\n",
            "Targets sum: 14825.0\n",
            "Batch accuracy: 0.6517949104309082\n",
            "Pred max/min: 0.09216145426034927 -2.015322685241699\n",
            "Epoch 33/100\n"
          ]
        },
        {
          "name": "stderr",
          "output_type": "stream",
          "text": [
            "100%|██████████| 135/135 [00:15<00:00,  8.78it/s, loss=0.32]\n"
          ]
        },
        {
          "name": "stdout",
          "output_type": "stream",
          "text": [
            "Overall Accuracy: 78.98\n",
            "Average Validation Loss: 0.3309\n",
            "Dice: 0.2620, IoU: 0.1507, Precision: 0.2893, Recall: 0.2394, F1 Score: 0.2620\n",
            "Preds sum: 10242.0\n",
            "Targets sum: 14825.0\n",
            "Batch accuracy: 0.8022742867469788\n",
            "Pred max/min: -0.017672143876552582 -2.0013861656188965\n",
            "Epoch 34/100\n"
          ]
        },
        {
          "name": "stderr",
          "output_type": "stream",
          "text": [
            "100%|██████████| 135/135 [00:15<00:00,  8.89it/s, loss=0.349]\n"
          ]
        },
        {
          "name": "stdout",
          "output_type": "stream",
          "text": [
            "Overall Accuracy: 67.29\n",
            "Average Validation Loss: 0.3240\n",
            "Dice: 0.3508, IoU: 0.2127, Precision: 0.2540, Recall: 0.5671, F1 Score: 0.3508\n",
            "Preds sum: 37624.0\n",
            "Targets sum: 14825.0\n",
            "Batch accuracy: 0.6198750138282776\n",
            "Pred max/min: 0.2986810803413391 -1.7463228702545166\n",
            "Epoch 35/100\n"
          ]
        },
        {
          "name": "stderr",
          "output_type": "stream",
          "text": [
            "100%|██████████| 135/135 [00:15<00:00,  8.88it/s, loss=0.325]\n"
          ]
        },
        {
          "name": "stdout",
          "output_type": "stream",
          "text": [
            "Overall Accuracy: 61.27\n",
            "Average Validation Loss: 0.3275\n",
            "Dice: 0.3194, IoU: 0.1900, Precision: 0.2199, Recall: 0.5831, F1 Score: 0.3194\n",
            "Preds sum: 52694.0\n",
            "Targets sum: 14825.0\n",
            "Batch accuracy: 0.5572459101676941\n",
            "Pred max/min: 0.22644950449466705 -1.7936251163482666\n",
            "Epoch 36/100\n"
          ]
        },
        {
          "name": "stderr",
          "output_type": "stream",
          "text": [
            "100%|██████████| 135/135 [00:15<00:00,  8.90it/s, loss=0.328]\n"
          ]
        },
        {
          "name": "stdout",
          "output_type": "stream",
          "text": [
            "Overall Accuracy: 57.70\n",
            "Average Validation Loss: 0.3274\n",
            "Dice: 0.3179, IoU: 0.1890, Precision: 0.2123, Recall: 0.6324, F1 Score: 0.3179\n",
            "Preds sum: 38469.0\n",
            "Targets sum: 14825.0\n",
            "Batch accuracy: 0.627405047416687\n",
            "Pred max/min: 0.18345095217227936 -1.817116141319275\n",
            "Epoch 37/100\n"
          ]
        },
        {
          "name": "stderr",
          "output_type": "stream",
          "text": [
            "100%|██████████| 135/135 [00:15<00:00,  8.89it/s, loss=0.34]\n"
          ]
        },
        {
          "name": "stdout",
          "output_type": "stream",
          "text": [
            "Overall Accuracy: 66.31\n",
            "Average Validation Loss: 0.3339\n",
            "Dice: 0.3126, IoU: 0.1853, Precision: 0.2292, Recall: 0.4915, F1 Score: 0.3126\n",
            "Preds sum: 53628.0\n",
            "Targets sum: 14825.0\n",
            "Batch accuracy: 0.5848479270935059\n",
            "Pred max/min: 0.21525782346725464 -4.696911334991455\n",
            "Epoch 38/100\n"
          ]
        },
        {
          "name": "stderr",
          "output_type": "stream",
          "text": [
            "100%|██████████| 135/135 [00:15<00:00,  8.89it/s, loss=0.306]\n"
          ]
        },
        {
          "name": "stdout",
          "output_type": "stream",
          "text": [
            "Overall Accuracy: 64.63\n",
            "Average Validation Loss: 0.3235\n",
            "Dice: 0.3462, IoU: 0.2093, Precision: 0.2432, Recall: 0.6009, F1 Score: 0.3462\n",
            "Preds sum: 56656.0\n",
            "Targets sum: 14825.0\n",
            "Batch accuracy: 0.5575687289237976\n",
            "Pred max/min: 0.19891099631786346 -1.9065847396850586\n",
            "Epoch 39/100\n"
          ]
        },
        {
          "name": "stderr",
          "output_type": "stream",
          "text": [
            "100%|██████████| 135/135 [00:15<00:00,  8.95it/s, loss=0.381]\n"
          ]
        },
        {
          "name": "stdout",
          "output_type": "stream",
          "text": [
            "Overall Accuracy: 59.93\n",
            "Average Validation Loss: 0.3289\n",
            "Dice: 0.3229, IoU: 0.1926, Precision: 0.2192, Recall: 0.6131, F1 Score: 0.3229\n",
            "Preds sum: 77285.0\n",
            "Targets sum: 14825.0\n",
            "Batch accuracy: 0.4292355179786682\n",
            "Pred max/min: 0.33747655153274536 -3.5580663681030273\n",
            "Epoch 40/100\n"
          ]
        },
        {
          "name": "stderr",
          "output_type": "stream",
          "text": [
            "100%|██████████| 135/135 [00:15<00:00,  8.85it/s, loss=0.311]\n"
          ]
        },
        {
          "name": "stdout",
          "output_type": "stream",
          "text": [
            "Overall Accuracy: 54.93\n",
            "Average Validation Loss: 0.3421\n",
            "Dice: 0.3094, IoU: 0.1830, Precision: 0.2032, Recall: 0.6478, F1 Score: 0.3094\n",
            "Preds sum: 62621.0\n",
            "Targets sum: 14825.0\n",
            "Batch accuracy: 0.4929945468902588\n",
            "Pred max/min: 1.3411897420883179 -2.173698663711548\n",
            "Epoch 41/100\n"
          ]
        },
        {
          "name": "stderr",
          "output_type": "stream",
          "text": [
            "100%|██████████| 135/135 [00:15<00:00,  8.91it/s, loss=0.36]\n"
          ]
        },
        {
          "name": "stdout",
          "output_type": "stream",
          "text": [
            "Overall Accuracy: 54.78\n",
            "Average Validation Loss: 0.3238\n",
            "Dice: 0.3219, IoU: 0.1918, Precision: 0.2100, Recall: 0.6888, F1 Score: 0.3219\n",
            "Preds sum: 79473.0\n",
            "Targets sum: 14825.0\n",
            "Batch accuracy: 0.4131585657596588\n",
            "Pred max/min: 0.26429179310798645 -2.1099231243133545\n",
            "Epoch 42/100\n"
          ]
        },
        {
          "name": "stderr",
          "output_type": "stream",
          "text": [
            "100%|██████████| 135/135 [00:15<00:00,  8.93it/s, loss=0.309]\n"
          ]
        },
        {
          "name": "stdout",
          "output_type": "stream",
          "text": [
            "Overall Accuracy: 72.52\n",
            "Average Validation Loss: 0.3321\n",
            "Dice: 0.3026, IoU: 0.1782, Precision: 0.2503, Recall: 0.3824, F1 Score: 0.3026\n",
            "Preds sum: 52011.0\n",
            "Targets sum: 14825.0\n",
            "Batch accuracy: 0.580723762512207\n",
            "Pred max/min: 0.32713404297828674 -6.314901351928711\n",
            "Epoch 43/100\n"
          ]
        },
        {
          "name": "stderr",
          "output_type": "stream",
          "text": [
            "100%|██████████| 135/135 [00:15<00:00,  8.95it/s, loss=0.348]\n"
          ]
        },
        {
          "name": "stdout",
          "output_type": "stream",
          "text": [
            "Overall Accuracy: 68.58\n",
            "Average Validation Loss: 0.3232\n",
            "Dice: 0.3492, IoU: 0.2115, Precision: 0.2578, Recall: 0.5408, F1 Score: 0.3492\n",
            "Preds sum: 37412.0\n",
            "Targets sum: 14825.0\n",
            "Batch accuracy: 0.6496723294258118\n",
            "Pred max/min: 0.497870534658432 -4.995311737060547\n",
            "Epoch 44/100\n"
          ]
        },
        {
          "name": "stderr",
          "output_type": "stream",
          "text": [
            "100%|██████████| 135/135 [00:15<00:00,  8.90it/s, loss=0.377]\n"
          ]
        },
        {
          "name": "stdout",
          "output_type": "stream",
          "text": [
            "Overall Accuracy: 46.36\n",
            "Average Validation Loss: 0.3279\n",
            "Dice: 0.3209, IoU: 0.1911, Precision: 0.1999, Recall: 0.8132, F1 Score: 0.3209\n",
            "Preds sum: 90718.0\n",
            "Targets sum: 14825.0\n",
            "Batch accuracy: 0.3404006063938141\n",
            "Pred max/min: 0.2657039761543274 -2.506662607192993\n",
            "Epoch 45/100\n"
          ]
        },
        {
          "name": "stderr",
          "output_type": "stream",
          "text": [
            "100%|██████████| 135/135 [00:15<00:00,  8.85it/s, loss=0.329]\n"
          ]
        },
        {
          "name": "stdout",
          "output_type": "stream",
          "text": [
            "Overall Accuracy: 49.72\n",
            "Average Validation Loss: 0.3260\n",
            "Dice: 0.3192, IoU: 0.1899, Precision: 0.2023, Recall: 0.7564, F1 Score: 0.3192\n",
            "Preds sum: 71261.0\n",
            "Targets sum: 14825.0\n",
            "Batch accuracy: 0.4724302589893341\n",
            "Pred max/min: 0.3866276144981384 -3.9726736545562744\n",
            "Epoch 46/100\n"
          ]
        },
        {
          "name": "stderr",
          "output_type": "stream",
          "text": [
            "100%|██████████| 135/135 [00:15<00:00,  8.89it/s, loss=0.323]\n"
          ]
        },
        {
          "name": "stdout",
          "output_type": "stream",
          "text": [
            "Overall Accuracy: 69.14\n",
            "Average Validation Loss: 0.3282\n",
            "Dice: 0.3345, IoU: 0.2009, Precision: 0.2519, Recall: 0.4977, F1 Score: 0.3345\n",
            "Preds sum: 36986.0\n",
            "Targets sum: 14825.0\n",
            "Batch accuracy: 0.6149518489837646\n",
            "Pred max/min: 0.7394632697105408 -3.5372729301452637\n",
            "Epoch 47/100\n"
          ]
        },
        {
          "name": "stderr",
          "output_type": "stream",
          "text": [
            "100%|██████████| 135/135 [00:15<00:00,  8.84it/s, loss=0.305]\n"
          ]
        },
        {
          "name": "stdout",
          "output_type": "stream",
          "text": [
            "Overall Accuracy: 65.45\n",
            "Average Validation Loss: 0.3336\n",
            "Dice: 0.3252, IoU: 0.1942, Precision: 0.2338, Recall: 0.5342, F1 Score: 0.3252\n",
            "Preds sum: 41265.0\n",
            "Targets sum: 14825.0\n",
            "Batch accuracy: 0.5901020169258118\n",
            "Pred max/min: 0.8446450233459473 -2.802239418029785\n",
            "Epoch 48/100\n"
          ]
        },
        {
          "name": "stderr",
          "output_type": "stream",
          "text": [
            "100%|██████████| 135/135 [00:15<00:00,  8.89it/s, loss=0.332]\n"
          ]
        },
        {
          "name": "stdout",
          "output_type": "stream",
          "text": [
            "Overall Accuracy: 71.24\n",
            "Average Validation Loss: 0.3246\n",
            "Dice: 0.3653, IoU: 0.2235, Precision: 0.2784, Recall: 0.5311, F1 Score: 0.3653\n",
            "Preds sum: 34544.0\n",
            "Targets sum: 14825.0\n",
            "Batch accuracy: 0.6350642442703247\n",
            "Pred max/min: 0.2086644172668457 -1.7821886539459229\n",
            "Epoch 49/100\n"
          ]
        },
        {
          "name": "stderr",
          "output_type": "stream",
          "text": [
            "100%|██████████| 135/135 [00:15<00:00,  8.82it/s, loss=0.317]\n"
          ]
        },
        {
          "name": "stdout",
          "output_type": "stream",
          "text": [
            "Overall Accuracy: 72.20\n",
            "Average Validation Loss: 0.3311\n",
            "Dice: 0.3513, IoU: 0.2131, Precision: 0.2760, Recall: 0.4831, F1 Score: 0.3513\n",
            "Preds sum: 29972.0\n",
            "Targets sum: 14825.0\n",
            "Batch accuracy: 0.6613587737083435\n",
            "Pred max/min: 0.32331398129463196 -1.996993899345398\n",
            "Epoch 50/100\n"
          ]
        },
        {
          "name": "stderr",
          "output_type": "stream",
          "text": [
            "100%|██████████| 135/135 [00:15<00:00,  8.92it/s, loss=0.348]\n"
          ]
        },
        {
          "name": "stdout",
          "output_type": "stream",
          "text": [
            "Overall Accuracy: 71.61\n",
            "Average Validation Loss: 0.3293\n",
            "Dice: 0.3338, IoU: 0.2004, Precision: 0.2631, Recall: 0.4565, F1 Score: 0.3338\n",
            "Preds sum: 24157.0\n",
            "Targets sum: 14825.0\n",
            "Batch accuracy: 0.7003324627876282\n",
            "Pred max/min: 0.14111042022705078 -2.58432674407959\n",
            "Epoch 51/100\n"
          ]
        },
        {
          "name": "stderr",
          "output_type": "stream",
          "text": [
            "100%|██████████| 135/135 [00:15<00:00,  8.67it/s, loss=0.354]\n"
          ]
        },
        {
          "name": "stdout",
          "output_type": "stream",
          "text": [
            "Overall Accuracy: 63.22\n",
            "Average Validation Loss: 0.3242\n",
            "Dice: 0.3414, IoU: 0.2058, Precision: 0.2368, Recall: 0.6116, F1 Score: 0.3414\n",
            "Preds sum: 58202.0\n",
            "Targets sum: 14825.0\n",
            "Batch accuracy: 0.5361005067825317\n",
            "Pred max/min: 0.33611011505126953 -2.085836172103882\n",
            "Epoch 52/100\n"
          ]
        },
        {
          "name": "stderr",
          "output_type": "stream",
          "text": [
            "100%|██████████| 135/135 [00:15<00:00,  8.90it/s, loss=0.348]\n"
          ]
        },
        {
          "name": "stdout",
          "output_type": "stream",
          "text": [
            "Overall Accuracy: 61.34\n",
            "Average Validation Loss: 0.3469\n",
            "Dice: 0.3111, IoU: 0.1842, Precision: 0.2154, Recall: 0.5601, F1 Score: 0.3111\n",
            "Preds sum: 58575.0\n",
            "Targets sum: 14825.0\n",
            "Batch accuracy: 0.5189824104309082\n",
            "Pred max/min: 0.4733201265335083 -2.213775396347046\n",
            "Epoch 53/100\n"
          ]
        },
        {
          "name": "stderr",
          "output_type": "stream",
          "text": [
            "100%|██████████| 135/135 [00:15<00:00,  8.90it/s, loss=0.31]\n"
          ]
        },
        {
          "name": "stdout",
          "output_type": "stream",
          "text": [
            "Overall Accuracy: 67.96\n",
            "Average Validation Loss: 0.3209\n",
            "Dice: 0.3482, IoU: 0.2108, Precision: 0.2549, Recall: 0.5492, F1 Score: 0.3482\n",
            "Preds sum: 47316.0\n",
            "Targets sum: 14825.0\n",
            "Batch accuracy: 0.5644773244857788\n",
            "Pred max/min: 0.5916752219200134 -1.7515491247177124\n",
            "Epoch 54/100\n"
          ]
        },
        {
          "name": "stderr",
          "output_type": "stream",
          "text": [
            "100%|██████████| 135/135 [00:15<00:00,  8.90it/s, loss=0.314]\n"
          ]
        },
        {
          "name": "stdout",
          "output_type": "stream",
          "text": [
            "Overall Accuracy: 61.24\n",
            "Average Validation Loss: 0.3253\n",
            "Dice: 0.3498, IoU: 0.2120, Precision: 0.2368, Recall: 0.6690, F1 Score: 0.3498\n",
            "Preds sum: 55878.0\n",
            "Targets sum: 14825.0\n",
            "Batch accuracy: 0.5560675859451294\n",
            "Pred max/min: 0.08086320757865906 -2.20731258392334\n",
            "Epoch 55/100\n"
          ]
        },
        {
          "name": "stderr",
          "output_type": "stream",
          "text": [
            "100%|██████████| 135/135 [00:15<00:00,  8.86it/s, loss=0.36]\n"
          ]
        },
        {
          "name": "stdout",
          "output_type": "stream",
          "text": [
            "Overall Accuracy: 70.46\n",
            "Average Validation Loss: 0.3232\n",
            "Dice: 0.3454, IoU: 0.2088, Precision: 0.2638, Recall: 0.5001, F1 Score: 0.3454\n",
            "Preds sum: 37499.0\n",
            "Targets sum: 14825.0\n",
            "Batch accuracy: 0.6237570643424988\n",
            "Pred max/min: 0.5376778244972229 -1.9250625371932983\n",
            "Epoch 56/100\n"
          ]
        },
        {
          "name": "stderr",
          "output_type": "stream",
          "text": [
            "100%|██████████| 135/135 [00:15<00:00,  8.89it/s, loss=0.371]\n"
          ]
        },
        {
          "name": "stdout",
          "output_type": "stream",
          "text": [
            "Overall Accuracy: 61.72\n",
            "Average Validation Loss: 0.3263\n",
            "Dice: 0.3383, IoU: 0.2036, Precision: 0.2315, Recall: 0.6280, F1 Score: 0.3383\n",
            "Preds sum: 50109.0\n",
            "Targets sum: 14825.0\n",
            "Batch accuracy: 0.5818697810173035\n",
            "Pred max/min: 0.21732281148433685 -2.5972418785095215\n",
            "Epoch 57/100\n"
          ]
        },
        {
          "name": "stderr",
          "output_type": "stream",
          "text": [
            "100%|██████████| 135/135 [00:15<00:00,  8.88it/s, loss=0.283]\n"
          ]
        },
        {
          "name": "stdout",
          "output_type": "stream",
          "text": [
            "Overall Accuracy: 58.41\n",
            "Average Validation Loss: 0.3243\n",
            "Dice: 0.3379, IoU: 0.2033, Precision: 0.2247, Recall: 0.6811, F1 Score: 0.3379\n",
            "Preds sum: 56688.0\n",
            "Targets sum: 14825.0\n",
            "Batch accuracy: 0.5237199664115906\n",
            "Pred max/min: 0.34460994601249695 -2.0903656482696533\n",
            "Epoch 58/100\n"
          ]
        },
        {
          "name": "stderr",
          "output_type": "stream",
          "text": [
            "100%|██████████| 135/135 [00:15<00:00,  8.87it/s, loss=0.349]\n"
          ]
        },
        {
          "name": "stdout",
          "output_type": "stream",
          "text": [
            "Overall Accuracy: 70.69\n",
            "Average Validation Loss: 0.3262\n",
            "Dice: 0.3460, IoU: 0.2092, Precision: 0.2652, Recall: 0.4976, F1 Score: 0.3460\n",
            "Preds sum: 46203.0\n",
            "Targets sum: 14825.0\n",
            "Batch accuracy: 0.59765625\n",
            "Pred max/min: 0.5423244833946228 -1.7976491451263428\n",
            "Epoch 59/100\n"
          ]
        },
        {
          "name": "stderr",
          "output_type": "stream",
          "text": [
            "100%|██████████| 135/135 [00:15<00:00,  8.88it/s, loss=0.296]\n"
          ]
        },
        {
          "name": "stdout",
          "output_type": "stream",
          "text": [
            "Overall Accuracy: 69.74\n",
            "Average Validation Loss: 0.3270\n",
            "Dice: 0.3543, IoU: 0.2153, Precision: 0.2654, Recall: 0.5327, F1 Score: 0.3543\n",
            "Preds sum: 39264.0\n",
            "Targets sum: 14825.0\n",
            "Batch accuracy: 0.630625307559967\n",
            "Pred max/min: 0.557918906211853 -2.7666046619415283\n",
            "Epoch 60/100\n"
          ]
        },
        {
          "name": "stderr",
          "output_type": "stream",
          "text": [
            "100%|██████████| 135/135 [00:15<00:00,  8.88it/s, loss=0.307]\n"
          ]
        },
        {
          "name": "stdout",
          "output_type": "stream",
          "text": [
            "Overall Accuracy: 58.21\n",
            "Average Validation Loss: 0.3275\n",
            "Dice: 0.3241, IoU: 0.1934, Precision: 0.2167, Recall: 0.6429, F1 Score: 0.3241\n",
            "Preds sum: 67980.0\n",
            "Targets sum: 14825.0\n",
            "Batch accuracy: 0.47414931654930115\n",
            "Pred max/min: 0.5184703469276428 -1.7151691913604736\n",
            "Epoch 61/100\n"
          ]
        },
        {
          "name": "stderr",
          "output_type": "stream",
          "text": [
            "100%|██████████| 135/135 [00:15<00:00,  8.91it/s, loss=0.314]\n"
          ]
        },
        {
          "name": "stdout",
          "output_type": "stream",
          "text": [
            "Overall Accuracy: 71.03\n",
            "Average Validation Loss: 0.3246\n",
            "Dice: 0.3384, IoU: 0.2036, Precision: 0.2627, Recall: 0.4753, F1 Score: 0.3384\n",
            "Preds sum: 38128.0\n",
            "Targets sum: 14825.0\n",
            "Batch accuracy: 0.6114975810050964\n",
            "Pred max/min: 0.44935381412506104 -2.5307836532592773\n",
            "Epoch 62/100\n"
          ]
        },
        {
          "name": "stderr",
          "output_type": "stream",
          "text": [
            "100%|██████████| 135/135 [00:15<00:00,  8.92it/s, loss=0.319]\n"
          ]
        },
        {
          "name": "stdout",
          "output_type": "stream",
          "text": [
            "Overall Accuracy: 69.37\n",
            "Average Validation Loss: 0.3407\n",
            "Dice: 0.3391, IoU: 0.2042, Precision: 0.2555, Recall: 0.5042, F1 Score: 0.3391\n",
            "Preds sum: 41233.0\n",
            "Targets sum: 14825.0\n",
            "Batch accuracy: 0.6076316833496094\n",
            "Pred max/min: 0.25002431869506836 -3.5322062969207764\n",
            "Epoch 63/100\n"
          ]
        },
        {
          "name": "stderr",
          "output_type": "stream",
          "text": [
            "100%|██████████| 135/135 [00:15<00:00,  8.85it/s, loss=0.315]\n"
          ]
        },
        {
          "name": "stdout",
          "output_type": "stream",
          "text": [
            "Overall Accuracy: 65.91\n",
            "Average Validation Loss: 0.3197\n",
            "Dice: 0.3609, IoU: 0.2202, Precision: 0.2549, Recall: 0.6175, F1 Score: 0.3609\n",
            "Preds sum: 45418.0\n",
            "Targets sum: 14825.0\n",
            "Batch accuracy: 0.5798279047012329\n",
            "Pred max/min: 0.45165443420410156 -2.5683701038360596\n",
            "Epoch 64/100\n"
          ]
        },
        {
          "name": "stderr",
          "output_type": "stream",
          "text": [
            "100%|██████████| 135/135 [00:15<00:00,  8.87it/s, loss=0.307]\n"
          ]
        },
        {
          "name": "stdout",
          "output_type": "stream",
          "text": [
            "Overall Accuracy: 70.44\n",
            "Average Validation Loss: 0.3242\n",
            "Dice: 0.3514, IoU: 0.2131, Precision: 0.2670, Recall: 0.5137, F1 Score: 0.3514\n",
            "Preds sum: 37939.0\n",
            "Targets sum: 14825.0\n",
            "Batch accuracy: 0.6303589344024658\n",
            "Pred max/min: 0.26467418670654297 -2.7403454780578613\n",
            "Epoch 65/100\n"
          ]
        },
        {
          "name": "stderr",
          "output_type": "stream",
          "text": [
            "100%|██████████| 135/135 [00:15<00:00,  8.79it/s, loss=0.349]\n"
          ]
        },
        {
          "name": "stdout",
          "output_type": "stream",
          "text": [
            "Overall Accuracy: 65.83\n",
            "Average Validation Loss: 0.3254\n",
            "Dice: 0.3342, IoU: 0.2006, Precision: 0.2400, Recall: 0.5503, F1 Score: 0.3342\n",
            "Preds sum: 50632.0\n",
            "Targets sum: 14825.0\n",
            "Batch accuracy: 0.5744850635528564\n",
            "Pred max/min: 0.10068877786397934 -2.5013420581817627\n",
            "Epoch 66/100\n"
          ]
        },
        {
          "name": "stderr",
          "output_type": "stream",
          "text": [
            "100%|██████████| 135/135 [00:15<00:00,  8.89it/s, loss=0.329]\n"
          ]
        },
        {
          "name": "stdout",
          "output_type": "stream",
          "text": [
            "Overall Accuracy: 58.98\n",
            "Average Validation Loss: 0.3280\n",
            "Dice: 0.3384, IoU: 0.2037, Precision: 0.2260, Recall: 0.6732, F1 Score: 0.3384\n",
            "Preds sum: 60575.0\n",
            "Targets sum: 14825.0\n",
            "Batch accuracy: 0.5089746713638306\n",
            "Pred max/min: 0.10352025181055069 -2.6926450729370117\n",
            "Epoch 67/100\n"
          ]
        },
        {
          "name": "stderr",
          "output_type": "stream",
          "text": [
            "100%|██████████| 135/135 [00:15<00:00,  8.87it/s, loss=0.325]\n"
          ]
        },
        {
          "name": "stdout",
          "output_type": "stream",
          "text": [
            "Overall Accuracy: 66.43\n",
            "Average Validation Loss: 0.3200\n",
            "Dice: 0.3556, IoU: 0.2163, Precision: 0.2537, Recall: 0.5945, F1 Score: 0.3556\n",
            "Preds sum: 44696.0\n",
            "Targets sum: 14825.0\n",
            "Batch accuracy: 0.5915466547012329\n",
            "Pred max/min: 0.18538294732570648 -3.0953543186187744\n",
            "Epoch 68/100\n"
          ]
        },
        {
          "name": "stderr",
          "output_type": "stream",
          "text": [
            "100%|██████████| 135/135 [00:15<00:00,  8.81it/s, loss=0.342]\n"
          ]
        },
        {
          "name": "stdout",
          "output_type": "stream",
          "text": [
            "Overall Accuracy: 75.03\n",
            "Average Validation Loss: 0.3199\n",
            "Dice: 0.3632, IoU: 0.2219, Precision: 0.3014, Recall: 0.4569, F1 Score: 0.3632\n",
            "Preds sum: 25170.0\n",
            "Targets sum: 14825.0\n",
            "Batch accuracy: 0.6891545057296753\n",
            "Pred max/min: 0.12826736271381378 -1.8387387990951538\n",
            "Epoch 69/100\n"
          ]
        },
        {
          "name": "stderr",
          "output_type": "stream",
          "text": [
            "100%|██████████| 135/135 [00:15<00:00,  8.84it/s, loss=0.334]\n"
          ]
        },
        {
          "name": "stdout",
          "output_type": "stream",
          "text": [
            "Overall Accuracy: 63.24\n",
            "Average Validation Loss: 0.3249\n",
            "Dice: 0.3554, IoU: 0.2161, Precision: 0.2445, Recall: 0.6502, F1 Score: 0.3554\n",
            "Preds sum: 51275.0\n",
            "Targets sum: 14825.0\n",
            "Batch accuracy: 0.5343491435050964\n",
            "Pred max/min: 0.2851029336452484 -2.2912850379943848\n",
            "Epoch 70/100\n"
          ]
        },
        {
          "name": "stderr",
          "output_type": "stream",
          "text": [
            "100%|██████████| 135/135 [00:15<00:00,  8.86it/s, loss=0.391]\n"
          ]
        },
        {
          "name": "stdout",
          "output_type": "stream",
          "text": [
            "Overall Accuracy: 57.71\n",
            "Average Validation Loss: 0.3202\n",
            "Dice: 0.3475, IoU: 0.2103, Precision: 0.2288, Recall: 0.7227, F1 Score: 0.3475\n",
            "Preds sum: 64602.0\n",
            "Targets sum: 14825.0\n",
            "Batch accuracy: 0.4738910496234894\n",
            "Pred max/min: 0.28230881690979004 -2.746551513671875\n",
            "Epoch 71/100\n"
          ]
        },
        {
          "name": "stderr",
          "output_type": "stream",
          "text": [
            "100%|██████████| 135/135 [00:15<00:00,  8.64it/s, loss=0.361]\n"
          ]
        },
        {
          "name": "stdout",
          "output_type": "stream",
          "text": [
            "Overall Accuracy: 59.57\n",
            "Average Validation Loss: 0.3146\n",
            "Dice: 0.3593, IoU: 0.2190, Precision: 0.2386, Recall: 0.7273, F1 Score: 0.3593\n",
            "Preds sum: 58089.0\n",
            "Targets sum: 14825.0\n",
            "Batch accuracy: 0.5015334486961365\n",
            "Pred max/min: 0.3305753469467163 -2.0008199214935303\n",
            "Epoch 72/100\n"
          ]
        },
        {
          "name": "stderr",
          "output_type": "stream",
          "text": [
            "100%|██████████| 135/135 [00:15<00:00,  8.80it/s, loss=0.301]\n"
          ]
        },
        {
          "name": "stdout",
          "output_type": "stream",
          "text": [
            "Overall Accuracy: 74.09\n",
            "Average Validation Loss: 0.3158\n",
            "Dice: 0.3780, IoU: 0.2330, Precision: 0.3020, Recall: 0.5052, F1 Score: 0.3780\n",
            "Preds sum: 24593.0\n",
            "Targets sum: 14825.0\n",
            "Batch accuracy: 0.6976853013038635\n",
            "Pred max/min: 0.22190460562705994 -1.9613782167434692\n",
            "Epoch 73/100\n"
          ]
        },
        {
          "name": "stderr",
          "output_type": "stream",
          "text": [
            "100%|██████████| 135/135 [00:15<00:00,  8.85it/s, loss=0.351]\n"
          ]
        },
        {
          "name": "stdout",
          "output_type": "stream",
          "text": [
            "Overall Accuracy: 64.15\n",
            "Average Validation Loss: 0.3178\n",
            "Dice: 0.3620, IoU: 0.2210, Precision: 0.2505, Recall: 0.6525, F1 Score: 0.3620\n",
            "Preds sum: 46372.0\n",
            "Targets sum: 14825.0\n",
            "Batch accuracy: 0.5733551383018494\n",
            "Pred max/min: 0.4213334619998932 -1.8109298944473267\n",
            "Epoch 74/100\n"
          ]
        },
        {
          "name": "stderr",
          "output_type": "stream",
          "text": [
            "100%|██████████| 135/135 [00:15<00:00,  8.81it/s, loss=0.353]\n"
          ]
        },
        {
          "name": "stdout",
          "output_type": "stream",
          "text": [
            "Overall Accuracy: 72.32\n",
            "Average Validation Loss: 0.3183\n",
            "Dice: 0.3703, IoU: 0.2272, Precision: 0.2868, Recall: 0.5223, F1 Score: 0.3703\n",
            "Preds sum: 21615.0\n",
            "Targets sum: 14825.0\n",
            "Batch accuracy: 0.7200735807418823\n",
            "Pred max/min: 0.05097644776105881 -1.7418344020843506\n",
            "Epoch 75/100\n"
          ]
        },
        {
          "name": "stderr",
          "output_type": "stream",
          "text": [
            "100%|██████████| 135/135 [00:15<00:00,  8.89it/s, loss=0.337]\n"
          ]
        },
        {
          "name": "stdout",
          "output_type": "stream",
          "text": [
            "Overall Accuracy: 69.09\n",
            "Average Validation Loss: 0.3128\n",
            "Dice: 0.3849, IoU: 0.2383, Precision: 0.2790, Recall: 0.6205, F1 Score: 0.3849\n",
            "Preds sum: 37189.0\n",
            "Targets sum: 14825.0\n",
            "Batch accuracy: 0.6301814317703247\n",
            "Pred max/min: 0.3051704168319702 -1.6991859674453735\n",
            "Epoch 76/100\n"
          ]
        },
        {
          "name": "stderr",
          "output_type": "stream",
          "text": [
            "100%|██████████| 135/135 [00:15<00:00,  8.91it/s, loss=0.329]\n"
          ]
        },
        {
          "name": "stdout",
          "output_type": "stream",
          "text": [
            "Overall Accuracy: 71.83\n",
            "Average Validation Loss: 0.3188\n",
            "Dice: 0.3696, IoU: 0.2267, Precision: 0.2837, Recall: 0.5299, F1 Score: 0.3696\n",
            "Preds sum: 30412.0\n",
            "Targets sum: 14825.0\n",
            "Batch accuracy: 0.6709306836128235\n",
            "Pred max/min: 0.20742936432361603 -1.9035669565200806\n",
            "Epoch 77/100\n"
          ]
        },
        {
          "name": "stderr",
          "output_type": "stream",
          "text": [
            "100%|██████████| 135/135 [00:15<00:00,  8.91it/s, loss=0.334]\n"
          ]
        },
        {
          "name": "stdout",
          "output_type": "stream",
          "text": [
            "Overall Accuracy: 73.53\n",
            "Average Validation Loss: 0.3149\n",
            "Dice: 0.3834, IoU: 0.2372, Precision: 0.3009, Recall: 0.5281, F1 Score: 0.3834\n",
            "Preds sum: 21751.0\n",
            "Targets sum: 14825.0\n",
            "Batch accuracy: 0.7168614268302917\n",
            "Pred max/min: 0.23351766169071198 -2.3722307682037354\n",
            "Epoch 78/100\n"
          ]
        },
        {
          "name": "stderr",
          "output_type": "stream",
          "text": [
            "100%|██████████| 135/135 [00:15<00:00,  8.88it/s, loss=0.348]\n"
          ]
        },
        {
          "name": "stdout",
          "output_type": "stream",
          "text": [
            "Overall Accuracy: 67.75\n",
            "Average Validation Loss: 0.3185\n",
            "Dice: 0.3611, IoU: 0.2203, Precision: 0.2612, Recall: 0.5846, F1 Score: 0.3611\n",
            "Preds sum: 43612.0\n",
            "Targets sum: 14825.0\n",
            "Batch accuracy: 0.5984067916870117\n",
            "Pred max/min: 0.3543768525123596 -2.1316492557525635\n",
            "Epoch 79/100\n"
          ]
        },
        {
          "name": "stderr",
          "output_type": "stream",
          "text": [
            "100%|██████████| 135/135 [00:15<00:00,  8.90it/s, loss=0.337]\n"
          ]
        },
        {
          "name": "stdout",
          "output_type": "stream",
          "text": [
            "Overall Accuracy: 73.35\n",
            "Average Validation Loss: 0.3138\n",
            "Dice: 0.3879, IoU: 0.2406, Precision: 0.3021, Recall: 0.5419, F1 Score: 0.3879\n",
            "Preds sum: 23844.0\n",
            "Targets sum: 14825.0\n",
            "Batch accuracy: 0.7078786492347717\n",
            "Pred max/min: 0.27856457233428955 -2.7884111404418945\n",
            "Epoch 80/100\n"
          ]
        },
        {
          "name": "stderr",
          "output_type": "stream",
          "text": [
            "100%|██████████| 135/135 [00:15<00:00,  8.89it/s, loss=0.33]\n"
          ]
        },
        {
          "name": "stdout",
          "output_type": "stream",
          "text": [
            "Overall Accuracy: 65.89\n",
            "Average Validation Loss: 0.3222\n",
            "Dice: 0.3570, IoU: 0.2173, Precision: 0.2528, Recall: 0.6076, F1 Score: 0.3570\n",
            "Preds sum: 40131.0\n",
            "Targets sum: 14825.0\n",
            "Batch accuracy: 0.6138784885406494\n",
            "Pred max/min: 0.19168588519096375 -1.7512030601501465\n",
            "Epoch 81/100\n"
          ]
        },
        {
          "name": "stderr",
          "output_type": "stream",
          "text": [
            "100%|██████████| 135/135 [00:15<00:00,  8.78it/s, loss=0.343]\n"
          ]
        },
        {
          "name": "stdout",
          "output_type": "stream",
          "text": [
            "Overall Accuracy: 71.87\n",
            "Average Validation Loss: 0.3214\n",
            "Dice: 0.3651, IoU: 0.2233, Precision: 0.2816, Recall: 0.5190, F1 Score: 0.3651\n",
            "Preds sum: 26533.0\n",
            "Targets sum: 14825.0\n",
            "Batch accuracy: 0.6950542330741882\n",
            "Pred max/min: 0.44808733463287354 -2.271209716796875\n",
            "Epoch 82/100\n"
          ]
        },
        {
          "name": "stderr",
          "output_type": "stream",
          "text": [
            "100%|██████████| 135/135 [00:15<00:00,  8.89it/s, loss=0.259]\n"
          ]
        },
        {
          "name": "stdout",
          "output_type": "stream",
          "text": [
            "Overall Accuracy: 69.20\n",
            "Average Validation Loss: 0.3167\n",
            "Dice: 0.3739, IoU: 0.2299, Precision: 0.2736, Recall: 0.5900, F1 Score: 0.3739\n",
            "Preds sum: 29655.0\n",
            "Targets sum: 14825.0\n",
            "Batch accuracy: 0.6708741784095764\n",
            "Pred max/min: 0.16827784478664398 -1.459161639213562\n",
            "Epoch 83/100\n"
          ]
        },
        {
          "name": "stderr",
          "output_type": "stream",
          "text": [
            "100%|██████████| 135/135 [00:15<00:00,  8.82it/s, loss=0.296]\n"
          ]
        },
        {
          "name": "stdout",
          "output_type": "stream",
          "text": [
            "Overall Accuracy: 74.02\n",
            "Average Validation Loss: 0.3126\n",
            "Dice: 0.3931, IoU: 0.2447, Precision: 0.3091, Recall: 0.5400, F1 Score: 0.3931\n",
            "Preds sum: 20913.0\n",
            "Targets sum: 14825.0\n",
            "Batch accuracy: 0.7202672958374023\n",
            "Pred max/min: 0.17703892290592194 -1.9582030773162842\n",
            "Epoch 84/100\n"
          ]
        },
        {
          "name": "stderr",
          "output_type": "stream",
          "text": [
            "100%|██████████| 135/135 [00:15<00:00,  8.82it/s, loss=0.308]\n"
          ]
        },
        {
          "name": "stdout",
          "output_type": "stream",
          "text": [
            "Overall Accuracy: 69.04\n",
            "Average Validation Loss: 0.3182\n",
            "Dice: 0.3753, IoU: 0.2310, Precision: 0.2738, Recall: 0.5968, F1 Score: 0.3753\n",
            "Preds sum: 33863.0\n",
            "Targets sum: 14825.0\n",
            "Batch accuracy: 0.6531346440315247\n",
            "Pred max/min: 0.28828778862953186 -2.6002485752105713\n",
            "Epoch 85/100\n"
          ]
        },
        {
          "name": "stderr",
          "output_type": "stream",
          "text": [
            "100%|██████████| 135/135 [00:15<00:00,  8.87it/s, loss=0.301]\n"
          ]
        },
        {
          "name": "stdout",
          "output_type": "stream",
          "text": [
            "Overall Accuracy: 67.26\n",
            "Average Validation Loss: 0.3183\n",
            "Dice: 0.3549, IoU: 0.2157, Precision: 0.2561, Recall: 0.5778, F1 Score: 0.3549\n",
            "Preds sum: 40092.0\n",
            "Targets sum: 14825.0\n",
            "Batch accuracy: 0.6355161666870117\n",
            "Pred max/min: 0.16781777143478394 -4.067921161651611\n",
            "Epoch 86/100\n"
          ]
        },
        {
          "name": "stderr",
          "output_type": "stream",
          "text": [
            "100%|██████████| 135/135 [00:15<00:00,  8.99it/s, loss=0.342]\n"
          ]
        },
        {
          "name": "stdout",
          "output_type": "stream",
          "text": [
            "Overall Accuracy: 73.25\n",
            "Average Validation Loss: 0.3105\n",
            "Dice: 0.3963, IoU: 0.2471, Precision: 0.3056, Recall: 0.5634, F1 Score: 0.3963\n",
            "Preds sum: 23081.0\n",
            "Targets sum: 14825.0\n",
            "Batch accuracy: 0.7144724726676941\n",
            "Pred max/min: 0.19201768934726715 -2.206839084625244\n",
            "Epoch 87/100\n"
          ]
        },
        {
          "name": "stderr",
          "output_type": "stream",
          "text": [
            "100%|██████████| 135/135 [00:15<00:00,  8.90it/s, loss=0.257]\n"
          ]
        },
        {
          "name": "stdout",
          "output_type": "stream",
          "text": [
            "Overall Accuracy: 58.10\n",
            "Average Validation Loss: 0.3228\n",
            "Dice: 0.3347, IoU: 0.2010, Precision: 0.2224, Recall: 0.6761, F1 Score: 0.3347\n",
            "Preds sum: 55548.0\n",
            "Targets sum: 14825.0\n",
            "Batch accuracy: 0.5423150062561035\n",
            "Pred max/min: 0.28602123260498047 -2.5118727684020996\n",
            "Epoch 88/100\n"
          ]
        },
        {
          "name": "stderr",
          "output_type": "stream",
          "text": [
            "100%|██████████| 135/135 [00:15<00:00,  8.90it/s, loss=0.341]\n"
          ]
        },
        {
          "name": "stdout",
          "output_type": "stream",
          "text": [
            "Overall Accuracy: 70.06\n",
            "Average Validation Loss: 0.3119\n",
            "Dice: 0.3808, IoU: 0.2352, Precision: 0.2810, Recall: 0.5908, F1 Score: 0.3808\n",
            "Preds sum: 33628.0\n",
            "Targets sum: 14825.0\n",
            "Batch accuracy: 0.661584734916687\n",
            "Pred max/min: 0.26873335242271423 -3.559666872024536\n",
            "Epoch 89/100\n"
          ]
        },
        {
          "name": "stderr",
          "output_type": "stream",
          "text": [
            "100%|██████████| 135/135 [00:15<00:00,  8.88it/s, loss=0.285]\n"
          ]
        },
        {
          "name": "stdout",
          "output_type": "stream",
          "text": [
            "Overall Accuracy: 74.04\n",
            "Average Validation Loss: 0.3146\n",
            "Dice: 0.3799, IoU: 0.2345, Precision: 0.3026, Recall: 0.5102, F1 Score: 0.3799\n",
            "Preds sum: 21995.0\n",
            "Targets sum: 14825.0\n",
            "Batch accuracy: 0.7180719971656799\n",
            "Pred max/min: 0.19852958619594574 -3.170839548110962\n",
            "Epoch 90/100\n"
          ]
        },
        {
          "name": "stderr",
          "output_type": "stream",
          "text": [
            "100%|██████████| 135/135 [00:15<00:00,  8.89it/s, loss=0.357]\n"
          ]
        },
        {
          "name": "stdout",
          "output_type": "stream",
          "text": [
            "Overall Accuracy: 67.57\n",
            "Average Validation Loss: 0.3106\n",
            "Dice: 0.3819, IoU: 0.2360, Precision: 0.2716, Recall: 0.6429, F1 Score: 0.3819\n",
            "Preds sum: 44010.0\n",
            "Targets sum: 14825.0\n",
            "Batch accuracy: 0.6030394434928894\n",
            "Pred max/min: 0.2039286494255066 -2.7057313919067383\n",
            "Epoch 91/100\n"
          ]
        },
        {
          "name": "stderr",
          "output_type": "stream",
          "text": [
            "100%|██████████| 135/135 [00:15<00:00,  8.63it/s, loss=0.358]\n"
          ]
        },
        {
          "name": "stdout",
          "output_type": "stream",
          "text": [
            "Overall Accuracy: 67.29\n",
            "Average Validation Loss: 0.3185\n",
            "Dice: 0.3595, IoU: 0.2191, Precision: 0.2587, Recall: 0.5890, F1 Score: 0.3595\n",
            "Preds sum: 44148.0\n",
            "Targets sum: 14825.0\n",
            "Batch accuracy: 0.6278166770935059\n",
            "Pred max/min: 0.08086217939853668 -2.4686388969421387\n",
            "Epoch 92/100\n"
          ]
        },
        {
          "name": "stderr",
          "output_type": "stream",
          "text": [
            "100%|██████████| 135/135 [00:15<00:00,  8.77it/s, loss=0.353]\n"
          ]
        },
        {
          "name": "stdout",
          "output_type": "stream",
          "text": [
            "Overall Accuracy: 63.88\n",
            "Average Validation Loss: 0.3205\n",
            "Dice: 0.3577, IoU: 0.2178, Precision: 0.2474, Recall: 0.6453, F1 Score: 0.3577\n",
            "Preds sum: 55375.0\n",
            "Targets sum: 14825.0\n",
            "Batch accuracy: 0.5379002690315247\n",
            "Pred max/min: 0.2751944661140442 -2.5272037982940674\n",
            "Epoch 93/100\n"
          ]
        },
        {
          "name": "stderr",
          "output_type": "stream",
          "text": [
            "100%|██████████| 135/135 [00:15<00:00,  8.85it/s, loss=0.349]\n"
          ]
        },
        {
          "name": "stdout",
          "output_type": "stream",
          "text": [
            "Overall Accuracy: 62.95\n",
            "Average Validation Loss: 0.3214\n",
            "Dice: 0.3612, IoU: 0.2204, Precision: 0.2469, Recall: 0.6720, F1 Score: 0.3612\n",
            "Preds sum: 50610.0\n",
            "Targets sum: 14825.0\n",
            "Batch accuracy: 0.5396354794502258\n",
            "Pred max/min: 0.23225745558738708 -2.3016538619995117\n",
            "Epoch 94/100\n"
          ]
        },
        {
          "name": "stderr",
          "output_type": "stream",
          "text": [
            "100%|██████████| 135/135 [00:15<00:00,  8.85it/s, loss=0.364]\n"
          ]
        },
        {
          "name": "stdout",
          "output_type": "stream",
          "text": [
            "Overall Accuracy: 64.63\n",
            "Average Validation Loss: 0.3181\n",
            "Dice: 0.3662, IoU: 0.2241, Precision: 0.2541, Recall: 0.6556, F1 Score: 0.3662\n",
            "Preds sum: 53963.0\n",
            "Targets sum: 14825.0\n",
            "Batch accuracy: 0.5268272161483765\n",
            "Pred max/min: 0.2347976267337799 -2.299804449081421\n",
            "Epoch 95/100\n"
          ]
        },
        {
          "name": "stderr",
          "output_type": "stream",
          "text": [
            "100%|██████████| 135/135 [00:15<00:00,  8.86it/s, loss=0.293]\n"
          ]
        },
        {
          "name": "stdout",
          "output_type": "stream",
          "text": [
            "Overall Accuracy: 67.14\n",
            "Average Validation Loss: 0.3133\n",
            "Dice: 0.3850, IoU: 0.2384, Precision: 0.2718, Recall: 0.6601, F1 Score: 0.3850\n",
            "Preds sum: 48808.0\n",
            "Targets sum: 14825.0\n",
            "Batch accuracy: 0.5504826307296753\n",
            "Pred max/min: 0.2541881799697876 -2.0500733852386475\n",
            "Epoch 96/100\n"
          ]
        },
        {
          "name": "stderr",
          "output_type": "stream",
          "text": [
            "100%|██████████| 135/135 [00:15<00:00,  8.83it/s, loss=0.271]\n"
          ]
        },
        {
          "name": "stdout",
          "output_type": "stream",
          "text": [
            "Overall Accuracy: 73.42\n",
            "Average Validation Loss: 0.3106\n",
            "Dice: 0.4022, IoU: 0.2517, Precision: 0.3096, Recall: 0.5737, F1 Score: 0.4022\n",
            "Preds sum: 25267.0\n",
            "Targets sum: 14825.0\n",
            "Batch accuracy: 0.7128098607063293\n",
            "Pred max/min: 0.1305377334356308 -2.1188395023345947\n",
            "Epoch 97/100\n"
          ]
        },
        {
          "name": "stderr",
          "output_type": "stream",
          "text": [
            "100%|██████████| 135/135 [00:15<00:00,  8.89it/s, loss=0.279]\n"
          ]
        },
        {
          "name": "stdout",
          "output_type": "stream",
          "text": [
            "Overall Accuracy: 72.26\n",
            "Average Validation Loss: 0.3208\n",
            "Dice: 0.3583, IoU: 0.2182, Precision: 0.2801, Recall: 0.4968, F1 Score: 0.3583\n",
            "Preds sum: 22881.0\n",
            "Targets sum: 14825.0\n",
            "Batch accuracy: 0.7174102067947388\n",
            "Pred max/min: 0.35538849234580994 -3.0626659393310547\n",
            "Epoch 98/100\n"
          ]
        },
        {
          "name": "stderr",
          "output_type": "stream",
          "text": [
            "100%|██████████| 135/135 [00:15<00:00,  8.90it/s, loss=0.386]\n"
          ]
        },
        {
          "name": "stdout",
          "output_type": "stream",
          "text": [
            "Overall Accuracy: 71.03\n",
            "Average Validation Loss: 0.3151\n",
            "Dice: 0.3836, IoU: 0.2373, Precision: 0.2869, Recall: 0.5784, F1 Score: 0.3836\n",
            "Preds sum: 37186.0\n",
            "Targets sum: 14825.0\n",
            "Batch accuracy: 0.6501080989837646\n",
            "Pred max/min: 0.2868693470954895 -2.803845167160034\n",
            "Epoch 99/100\n"
          ]
        },
        {
          "name": "stderr",
          "output_type": "stream",
          "text": [
            "100%|██████████| 135/135 [00:15<00:00,  8.93it/s, loss=0.36]\n"
          ]
        },
        {
          "name": "stdout",
          "output_type": "stream",
          "text": [
            "Overall Accuracy: 66.90\n",
            "Average Validation Loss: 0.3118\n",
            "Dice: 0.3832, IoU: 0.2370, Precision: 0.2700, Recall: 0.6597, F1 Score: 0.3832\n",
            "Preds sum: 50333.0\n",
            "Targets sum: 14825.0\n",
            "Batch accuracy: 0.586389422416687\n",
            "Pred max/min: 0.22417320311069489 -2.3496222496032715\n",
            "Epoch 100/100\n"
          ]
        },
        {
          "name": "stderr",
          "output_type": "stream",
          "text": [
            "100%|██████████| 135/135 [00:15<00:00,  8.92it/s, loss=0.309]\n"
          ]
        },
        {
          "name": "stdout",
          "output_type": "stream",
          "text": [
            "Overall Accuracy: 68.52\n",
            "Average Validation Loss: 0.3158\n",
            "Dice: 0.3806, IoU: 0.2350, Precision: 0.2745, Recall: 0.6205, F1 Score: 0.3806\n",
            "Preds sum: 50090.0\n",
            "Targets sum: 14825.0\n",
            "Batch accuracy: 0.5862522125244141\n",
            "Pred max/min: 0.31823399662971497 -2.302562952041626\n"
          ]
        }
      ],
      "source": [
        "LEARNING_RATE = 3e-4\n",
        "NUM_EPOCHS = 100\n",
        "WEIGHT_DECAY = 1e-5\n",
        "\n",
        "model = DeepLabUNet352_Binary().to(DEVICE)\n",
        "\n",
        "optimizer = optim.AdamW(model.parameters(), lr=LEARNING_RATE, weight_decay=WEIGHT_DECAY) # Add weight_decay\n",
        "scaler = torch.amp.GradScaler(init_scale=2.**10) # Updated GradScaler initialization\n",
        "scheduler = optim.lr_scheduler.CosineAnnealingWarmRestarts(optimizer, T_0=10, T_mult=2)\n",
        "\n",
        "\n",
        "focal_loss = smp.losses.FocalLoss(mode='binary', gamma=2.0, alpha=0.6).to(DEVICE)\n",
        "tversky_loss = smp.losses.TverskyLoss(mode='binary', alpha=0.4, beta=0.6)  # Penalize FNs more\n",
        "\n",
        "def combined_loss_fn(predictions, targets, weight = 0.4):\n",
        "    return (1 - weight) * focal_loss(predictions, targets) + weight * tversky_loss(predictions, targets)\n",
        "\n",
        "loss_fn = combined_loss_fn\n",
        "\n",
        "\n",
        "train_losses = []\n",
        "val_accuracies = []\n",
        "val_dice_scores = []\n",
        "val_iou_scores = []\n",
        "val_losses = []\n",
        "val_precisions = []\n",
        "val_recalls = []\n",
        "val_f1_scores = []\n",
        "\n",
        "for epoch in range(NUM_EPOCHS):\n",
        "    print(f\"Epoch {epoch+1}/{NUM_EPOCHS}\")\n",
        "    train_loss = train_fn(train_loader, model, optimizer, loss_fn, scaler)\n",
        "    train_losses.append(train_loss)\n",
        "\n",
        "    acc, val_loss, dice, iou, prec, rec, f1 = check_accuracy(val_loader, model, loss_fn, DEVICE)\n",
        "\n",
        "    val_accuracies.append(acc)\n",
        "    val_dice_scores.append(dice)\n",
        "    val_iou_scores.append(iou)\n",
        "    val_losses.append(val_loss)\n",
        "    val_precisions.append(prec)\n",
        "    val_recalls.append(rec)\n",
        "    val_f1_scores.append(f1)\n",
        "\n",
        "    scheduler.step(val_loss)\n",
        "\n",
        "torch.save(model.state_dict(), \"model.pth\")"
      ]
    },
    {
      "cell_type": "markdown",
      "metadata": {
        "id": "e2Ez7FsPYCTD"
      },
      "source": [
        "# Evaluate &  Plotting"
      ]
    },
    {
      "cell_type": "code",
      "execution_count": null,
      "metadata": {
        "colab": {
          "base_uri": "https://localhost:8080/",
          "height": 505
        },
        "id": "IlV6ISFoP03J",
        "outputId": "dd905c6d-efbb-4985-afe1-ddd79965e92a"
      },
      "outputs": [
        {
          "data": {
            "image/png": "[encoded data removed]",
            "text/plain": [
              "<Figure size 1000x500 with 1 Axes>"
            ]
          },
          "metadata": {},
          "output_type": "display_data"
        },
        {
          "data": {
            "text/plain": [
              "<Figure size 640x480 with 0 Axes>"
            ]
          },
          "metadata": {},
          "output_type": "display_data"
        }
      ],
      "source": [
        "import matplotlib.pyplot as plt\n",
        "\n",
        "# Plotting the training loss\n",
        "plt.figure(figsize=(10, 5))\n",
        "plt.plot(train_losses, label='Training Loss')\n",
        "plt.plot(val_losses, label='Validating Loss')\n",
        "plt.xlabel('Epoch')\n",
        "plt.ylabel('Loss')\n",
        "plt.title('Training Loss per Epoch')\n",
        "plt.legend()\n",
        "plt.grid(True)\n",
        "plt.show()\n",
        "plt.savefig('Training Loss.png')"
      ]
    },
    {
      "cell_type": "code",
      "execution_count": 1,
      "metadata": {
        "colab": {
          "base_uri": "https://localhost:8080/",
          "height": 221
        },
        "id": "859PEVN9F-Qk",
        "outputId": "1d58f23a-9429-4235-e557-4ae6e9463d9c"
      },
      "outputs": [
        {
          "ename": "NameError",
          "evalue": "name 'plt' is not defined",
          "output_type": "error",
          "traceback": [
            "\u001b[0;31m---------------------------------------------------------------------------\u001b[0m",
            "\u001b[0;31mNameError\u001b[0m                                 Traceback (most recent call last)",
            "\u001b[0;32m/tmp/ipython-input-869001815.py\u001b[0m in \u001b[0;36m<cell line: 0>\u001b[0;34m()\u001b[0m\n\u001b[1;32m      1\u001b[0m \u001b[0;31m# Plotting the validation metrics\u001b[0m\u001b[0;34m\u001b[0m\u001b[0;34m\u001b[0m\u001b[0m\n\u001b[0;32m----> 2\u001b[0;31m \u001b[0mplt\u001b[0m\u001b[0;34m.\u001b[0m\u001b[0mfigure\u001b[0m\u001b[0;34m(\u001b[0m\u001b[0mfigsize\u001b[0m\u001b[0;34m=\u001b[0m\u001b[0;34m(\u001b[0m\u001b[0;36m12\u001b[0m\u001b[0;34m,\u001b[0m \u001b[0;36m8\u001b[0m\u001b[0;34m)\u001b[0m\u001b[0;34m)\u001b[0m\u001b[0;34m\u001b[0m\u001b[0;34m\u001b[0m\u001b[0m\n\u001b[0m\u001b[1;32m      3\u001b[0m \u001b[0;34m\u001b[0m\u001b[0m\n\u001b[1;32m      4\u001b[0m \u001b[0mplt\u001b[0m\u001b[0;34m.\u001b[0m\u001b[0mplot\u001b[0m\u001b[0;34m(\u001b[0m\u001b[0mval_accuracies\u001b[0m\u001b[0;34m,\u001b[0m \u001b[0mlabel\u001b[0m\u001b[0;34m=\u001b[0m\u001b[0;34m'Validation Accuracy'\u001b[0m\u001b[0;34m)\u001b[0m\u001b[0;34m\u001b[0m\u001b[0;34m\u001b[0m\u001b[0m\n\u001b[1;32m      5\u001b[0m \u001b[0mplt\u001b[0m\u001b[0;34m.\u001b[0m\u001b[0mplot\u001b[0m\u001b[0;34m(\u001b[0m\u001b[0mval_dice_scores\u001b[0m\u001b[0;34m,\u001b[0m \u001b[0mlabel\u001b[0m\u001b[0;34m=\u001b[0m\u001b[0;34m'Validation Dice Score'\u001b[0m\u001b[0;34m)\u001b[0m\u001b[0;34m\u001b[0m\u001b[0;34m\u001b[0m\u001b[0m\n",
            "\u001b[0;31mNameError\u001b[0m: name 'plt' is not defined"
          ]
        }
      ],
      "source": [
        "plt.figure(figsize=(12, 8))\n",
        "\n",
        "plt.plot(val_accuracies, label='Validation Accuracy')\n",
        "plt.plot(val_dice_scores, label='Validation Dice Score')\n",
        "plt.plot(val_iou_scores, label='Validation IoU Score')\n",
        "plt.plot(val_precisions, label='Validation Precision')\n",
        "plt.plot(val_recalls, label='Validation Recall')\n",
        "plt.plot(val_f1_scores, label='Validation F1 Score')\n",
        "\n",
        "plt.xlabel('Epoch')\n",
        "plt.ylabel('Metric Value')\n",
        "plt.title('Validation Metrics per Epoch')\n",
        "plt.legend()\n",
        "plt.grid(True)\n",
        "plt.show()\n",
        "plt.savefig('Validation Metrics.png')"
      ]
    }
  ],
  "metadata": {
    "accelerator": "GPU",
    "colab": {
      "collapsed_sections": [
        "uEE-0zscS0rR",
        "Pu3IXx3Yqlxb",
        "AsLUCCo2qjEW",
        "BjUobgf0P9NM",
        "9cqWvQnTYeAw"
      ],
      "gpuType": "T4",
      "provenance": []
    },
    "kernelspec": {
      "display_name": "Python 3",
      "name": "python3"
    },
    "language_info": {
      "name": "python"
    }
  },
  "nbformat": 4,
  "nbformat_minor": 0
}
