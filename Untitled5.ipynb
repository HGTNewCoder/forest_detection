{
  "cells": [
    {
      "cell_type": "code",
      "execution_count": 18,
      "metadata": {
        "collapsed": true,
        "id": "DOaYZXC5BpZE"
      },
      "outputs": [
        {
          "name": "stderr",
          "output_type": "stream",
          "text": [
            "'unzip' is not recognized as an internal or external command,\n",
            "operable program or batch file.\n"
          ]
        }
      ],
      "source": [
        "!pip freeze > requirements.txt"
      ]
    },
    {
      "cell_type": "code",
      "execution_count": 25,
      "metadata": {
        "id": "-aQc7sMHAmpK"
      },
      "outputs": [],
      "source": [
        "import torch\n",
        "import albumentations as A\n",
        "from albumentations.pytorch import ToTensorV2\n",
        "\n",
        "from tqdm import tqdm\n",
        "import torch.nn as nn\n",
        "import torch.optim as optim\n",
        "from torch.utils.data import DataLoader\n",
        "from torchvision import models\n",
        "import torch.nn.functional as F\n",
        "from sklearn.model_selection import train_test_split\n",
        "import os\n",
        "from torchvision import transforms\n",
        "from PIL import Image\n",
        "from torch.utils.data import Dataset\n",
        "import numpy as np\n",
        "from torch.optim.lr_scheduler import StepLR\n",
        "from torch.optim.lr_scheduler import ReduceLROnPlateau"
      ]
    },
    {
      "cell_type": "code",
      "execution_count": 3,
      "metadata": {
        "id": "W5wq1qqNAlaL"
      },
      "outputs": [],
      "source": [
        "# --- Configuration ---\n",
        "DEVICE = \"cuda\" if torch.cuda.is_available() else \"cpu\"\n",
        "IMAGE_HEIGHT = 352\n",
        "IMAGE_WIDTH = 352\n",
        "PIN_MEMORY = True\n",
        "TRAIN_DIR = os.path.join(\"dataset_newest\", \"train\")\n",
        "TEST_DIR = os.path.join(\"dataset_newest\", \"test\")\n",
        "\n",
        "#HYPERPARAMETERS\n",
        "LEARNING_RATE =  0.00001\n",
        "NUM_EPOCHS = 8\n",
        "BATCH_SIZE = 1\n",
        "my_parameters = {\n",
        "    \"LEARNING_RATE\": LEARNING_RATE,\n",
        "    \"NUM_EPOCHS\": NUM_EPOCHS,\n",
        "    \"BATCH_SIZE\": BATCH_SIZE\n",
        "}"
      ]
    },
    {
      "cell_type": "markdown",
      "metadata": {
        "id": "dWXVe8sBXJi6"
      },
      "source": [
        "### Dataset"
      ]
    },
    {
      "cell_type": "code",
      "execution_count": 5,
      "metadata": {
        "id": "4u1-ZlHVAx8-"
      },
      "outputs": [],
      "source": [
        "import os\n",
        "import rasterio\n",
        "from torch.utils.data import Dataset\n",
        "import numpy as np\n",
        "\n",
        "class SentinelDataset(Dataset):\n",
        "    def __init__(self, root_dir, transform=None):\n",
        "        self.root_dir = root_dir\n",
        "        self.transform = transform\n",
        "        self.files = []\n",
        "\n",
        "        # Walk through the root directory (e.g., 'dataset_new/train')\n",
        "        for date_folder in sorted(os.listdir(root_dir)):\n",
        "            date_path = os.path.join(root_dir, date_folder)\n",
        "            if not os.path.isdir(date_path):\n",
        "                continue\n",
        "\n",
        "            img_vh_dir = os.path.join(date_path, 'img/vh_decibel')\n",
        "            img_vv_dir = os.path.join(date_path, 'img/vv_decibel')\n",
        "            mask_dir = os.path.join(date_path, 'mask')\n",
        "\n",
        "            # Check if the directories exist and contain files\n",
        "            if not os.path.isdir(img_vh_dir) or not os.listdir(img_vh_dir):\n",
        "                print(f\"Warning: No VH images found in {img_vh_dir}. Skipping {date_folder}.\")\n",
        "                continue\n",
        "            if not os.path.isdir(img_vv_dir) or not os.listdir(img_vv_dir):\n",
        "                print(f\"Warning: No VV images found in {img_vv_dir}. Skipping {date_folder}.\")\n",
        "                continue\n",
        "            if not os.path.isdir(mask_dir) or not os.listdir(mask_dir):\n",
        "                print(f\"Warning: No mask files found in {mask_dir}. Skipping {date_folder}.\")\n",
        "                continue\n",
        "\n",
        "            img_vh_file = os.path.join(img_vh_dir, os.listdir(img_vh_dir)[0])\n",
        "            img_vv_file = os.path.join(img_vv_dir, os.listdir(img_vv_dir)[0])\n",
        "            mask_file = os.path.join(mask_dir, os.listdir(mask_dir)[0])\n",
        "            self.files.append((img_vh_file, img_vv_file, mask_file))\n",
        "\n",
        "\n",
        "    def __len__(self):\n",
        "        return len(self.files)\n",
        "\n",
        "    def __getitem__(self, index):\n",
        "        img_vh_path, img_vv_path, mask_path = self.files[index]\n",
        "\n",
        "        # Load VH and VV images using rasterio\n",
        "        with rasterio.open(img_vh_path) as src:\n",
        "            img_vh_image = src.read(1).astype(np.float32)\n",
        "        with rasterio.open(img_vv_path) as src:\n",
        "            img_vv_image = src.read(1).astype(np.float32)\n",
        "\n",
        "        # Calculate the ratio (VH/VV) and handle division by zero\n",
        "        # Add a small epsilon to the denominator to avoid division by zero\n",
        "        ratio_image = np.divide(img_vh_image, img_vv_image + 1e-8).astype(np.float32)\n",
        "\n",
        "        # Load mask using rasterio and map values from [0, 255] to [0, 1]\n",
        "        with rasterio.open(mask_path) as src:\n",
        "            # Load mask as integer type\n",
        "            mask_image = src.read(1)\n",
        "\n",
        "\n",
        "        # Stack images to create a 3-channel input (H, W, 3)\n",
        "        image = np.stack([img_vh_image, img_vv_image, ratio_image], axis=-1)\n",
        "        mask = np.array(mask_image, dtype = np.int16)\n",
        "\n",
        "        if self.transform is not None:\n",
        "            # Apply transform to image and mask\n",
        "            augmentations = self.transform(image=image, mask=mask)\n",
        "            image = augmentations[\"image\"]\n",
        "            mask = augmentations[\"mask\"]\n",
        "\n",
        "        return image, mask"
      ]
    },
    {
      "cell_type": "markdown",
      "metadata": {
        "id": "dWNXRiUfV9H2"
      },
      "source": [
        "### ResNet50 + UNet"
      ]
    },
    {
      "cell_type": "code",
      "execution_count": 22,
      "metadata": {
        "id": "u7uZXuUrAgo-"
      },
      "outputs": [],
      "source": [
        "class ResNetNetwork(nn.Module):\n",
        "    def __init__(self, n_channels=3, n_classes=1, bilinear=False):\n",
        "        super(ResNetNetwork, self).__init__()\n",
        "        self.n_channels = n_channels\n",
        "        self.n_classes = n_classes\n",
        "        self.bilinear = bilinear\n",
        "\n",
        "        # Encoder\n",
        "        resnet = models.resnet50(weights=models.ResNet50_Weights.IMAGENET1K_V1)\n",
        "\n",
        "        # Adapt the first convolutional layer for n-channel input\n",
        "        self.encoder_conv1 = nn.Sequential(\n",
        "            nn.Conv2d(n_channels, 64, kernel_size=7, stride=2, padding=3, bias=False),\n",
        "            resnet.bn1,\n",
        "            resnet.relu\n",
        "        )\n",
        "\n",
        "        # --- IMPROVEMENT ---\n",
        "        # If using 3 channels, copy the pretrained weights\n",
        "        if n_channels == 3:\n",
        "            self.encoder_conv1[0].weight.data = resnet.conv1.weight.data.clone()\n",
        "        # -------------------\n",
        "\n",
        "        self.encoder_pool1 = resnet.maxpool\n",
        "        self.encoder_layer1 = resnet.layer1\n",
        "        self.encoder_layer2 = resnet.layer2\n",
        "        self.encoder_layer3 = resnet.layer3\n",
        "        self.encoder_layer4 = resnet.layer4\n",
        "\n",
        "        # Decoder (rest of the code is unchanged)\n",
        "        self.up1_upsample = nn.ConvTranspose2d(2048, 1024, kernel_size=2, stride=2)\n",
        "        self.up1_conv = self._double_conv(1024 + 1024, 1024)\n",
        "\n",
        "        self.up2_upsample = nn.ConvTranspose2d(1024, 512, kernel_size=2, stride=2)\n",
        "        self.up2_conv = self._double_conv(512 + 512, 512)\n",
        "\n",
        "        self.up3_upsample = nn.ConvTranspose2d(512, 256, kernel_size=2, stride=2)\n",
        "        self.up3_conv = self._double_conv(256 + 256, 256)\n",
        "\n",
        "        self.up4_upsample = nn.ConvTranspose2d(256, 128, kernel_size=2, stride=2)\n",
        "        self.up4_conv = self._double_conv(64 + 128, 128) # Note: 64 from x1, 128 from upsample\n",
        "\n",
        "        self.up_final = nn.ConvTranspose2d(128, 64, kernel_size=2, stride=2)\n",
        "        self.outc = nn.Conv2d(64, n_classes, kernel_size=1)\n",
        "\n",
        "    def _double_conv(self, in_channels, out_channels, mid_channels=None):\n",
        "        if not mid_channels:\n",
        "            mid_channels = out_channels\n",
        "        return nn.Sequential(\n",
        "            nn.Conv2d(in_channels, mid_channels, kernel_size=3, padding=1, bias=False),\n",
        "            nn.BatchNorm2d(mid_channels),\n",
        "            nn.ReLU(inplace=True),\n",
        "            nn.Conv2d(mid_channels, out_channels, kernel_size=3, padding=1, bias=False),\n",
        "            nn.BatchNorm2d(out_channels),\n",
        "            nn.ReLU(inplace=True)\n",
        "        )\n",
        "\n",
        "    def encoder(self, x):\n",
        "        x1 = self.encoder_conv1(x)\n",
        "        x2_p = self.encoder_pool1(x1)\n",
        "        x2 = self.encoder_layer1(x2_p)\n",
        "        x3 = self.encoder_layer2(x2)\n",
        "        x4 = self.encoder_layer3(x3)\n",
        "        x5 = self.encoder_layer4(x4)\n",
        "        return x5, x4, x3, x2, x1\n",
        "\n",
        "    def decoder(self, x5, x4, x3, x2, x1):\n",
        "        up1_out = self.up1_upsample(x5)\n",
        "        diffY = x4.size()[2] - up1_out.size()[2]\n",
        "        diffX = x4.size()[3] - up1_out.size()[3]\n",
        "        up1_out = F.pad(up1_out, [diffX // 2, diffX - diffX // 2, diffY // 2, diffY - diffY // 2])\n",
        "        x = torch.cat([x4, up1_out], dim=1)\n",
        "        x = self.up1_conv(x)\n",
        "\n",
        "        up2_out = self.up2_upsample(x)\n",
        "        diffY = x3.size()[2] - up2_out.size()[2]\n",
        "        diffX = x3.size()[3] - up2_out.size()[3]\n",
        "        up2_out = F.pad(up2_out, [diffX // 2, diffX - diffX // 2, diffY // 2, diffY - diffY // 2])\n",
        "        x = torch.cat([x3, up2_out], dim=1)\n",
        "        x = self.up2_conv(x)\n",
        "\n",
        "        up3_out = self.up3_upsample(x)\n",
        "        diffY = x2.size()[2] - up3_out.size()[2]\n",
        "        diffX = x2.size()[3] - up3_out.size()[3]\n",
        "        up3_out = F.pad(up3_out, [diffX // 2, diffX - diffX // 2, diffY // 2, diffY - diffY // 2])\n",
        "        x = torch.cat([x2, up3_out], dim=1)\n",
        "        x = self.up3_conv(x)\n",
        "\n",
        "        up4_out = self.up4_upsample(x)\n",
        "        diffY = x1.size()[2] - up4_out.size()[2]\n",
        "        diffX = x1.size()[3] - up4_out.size()[3]\n",
        "        up4_out = F.pad(up4_out, [diffX // 2, diffX - diffX // 2, diffY // 2, diffY - diffY // 2])\n",
        "        x = torch.cat([x1, up4_out], dim=1)\n",
        "        x = self.up4_conv(x)\n",
        "\n",
        "        x = self.up_final(x)\n",
        "        return self.outc(x)\n",
        "\n",
        "    def forward(self, x):\n",
        "        x5, x4, x3, x2, x1 = self.encoder(x)\n",
        "        return self.decoder(x5, x4, x3, x2, x1)"
      ]
    },
    {
      "cell_type": "markdown",
      "metadata": {
        "id": "PgsPGUVDWBOf"
      },
      "source": [
        "### EfficientNet + UNet"
      ]
    },
    {
      "cell_type": "code",
      "execution_count": 23,
      "metadata": {
        "id": "pcai_JZ1Vs3Y"
      },
      "outputs": [],
      "source": [
        "class EfficientNetNetwork(nn.Module):\n",
        "    def __init__(self, n_channels=3, n_classes=1):\n",
        "        super(EfficientNetNetwork, self).__init__()\n",
        "        self.n_channels = n_channels\n",
        "        self.n_classes = n_classes\n",
        "\n",
        "        # --- Encoder (EfficientNet-B0) ---\n",
        "        # Load a pretrained EfficientNet-B0\n",
        "        efficientnet = models.efficientnet_b0(weights=models.EfficientNet_B0_Weights.IMAGENET1K_V1)\n",
        "\n",
        "        # We will use the 'features' module of EfficientNet.\n",
        "        # Let's break it down into stages for skip connections.\n",
        "        self.encoder_stem = efficientnet.features[0]   # Output channels: 32, resolution: /2\n",
        "        self.encoder_stage1 = efficientnet.features[1] # Output channels: 16\n",
        "        self.encoder_stage2 = efficientnet.features[2] # Output channels: 24, resolution: /4\n",
        "        self.encoder_stage3 = efficientnet.features[3] # Output channels: 40, resolution: /8\n",
        "        self.encoder_stage4 = efficientnet.features[4:6] # Output channels: 112, resolution: /16\n",
        "        self.encoder_stage5 = efficientnet.features[6:] # Output channels: 1280, resolution: /32\n",
        "\n",
        "        # --- Adapt the first convolutional layer for n-channel input ---\n",
        "        # Get the original weights\n",
        "        original_conv = self.encoder_stem[0]\n",
        "        # Create a new conv layer\n",
        "        self.new_first_conv = nn.Conv2d(n_channels, original_conv.out_channels,\n",
        "                                        kernel_size=original_conv.kernel_size,\n",
        "                                        stride=original_conv.stride, padding=original_conv.padding,\n",
        "                                        bias=False)\n",
        "        # If using 3 channels, copy the pretrained weights\n",
        "        if n_channels == 3:\n",
        "            self.new_first_conv.weight.data = original_conv.weight.data.clone()\n",
        "\n",
        "        # Replace the original first conv layer\n",
        "        self.encoder_stem[0] = self.new_first_conv\n",
        "\n",
        "        # --- Decoder ---\n",
        "        # Channel dimensions from EfficientNet-B0 encoder stages\n",
        "        # x5: 1280, x4: 112, x3: 40, x2: 24, x1: 32\n",
        "        self.up1_upsample = nn.ConvTranspose2d(1280, 512, kernel_size=2, stride=2)\n",
        "        self.up1_conv = self._double_conv(512 + 112, 512)\n",
        "\n",
        "        self.up2_upsample = nn.ConvTranspose2d(512, 256, kernel_size=2, stride=2)\n",
        "        self.up2_conv = self._double_conv(256 + 40, 256)\n",
        "\n",
        "        self.up3_upsample = nn.ConvTranspose2d(256, 128, kernel_size=2, stride=2)\n",
        "        self.up3_conv = self._double_conv(128 + 24, 128)\n",
        "\n",
        "        self.up4_upsample = nn.ConvTranspose2d(128, 64, kernel_size=2, stride=2)\n",
        "        self.up4_conv = self._double_conv(64 + 32, 64)\n",
        "\n",
        "        self.up_final = nn.ConvTranspose2d(64, 64, kernel_size=2, stride=2)\n",
        "        self.outc = nn.Conv2d(64, n_classes, kernel_size=1)\n",
        "\n",
        "    def _double_conv(self, in_channels, out_channels, mid_channels=None):\n",
        "        if not mid_channels:\n",
        "            mid_channels = out_channels\n",
        "        return nn.Sequential(\n",
        "            nn.Conv2d(in_channels, mid_channels, kernel_size=3, padding=1, bias=False),\n",
        "            nn.BatchNorm2d(mid_channels),\n",
        "            nn.ReLU(inplace=True),\n",
        "            nn.Conv2d(mid_channels, out_channels, kernel_size=3, padding=1, bias=False),\n",
        "            nn.BatchNorm2d(out_channels),\n",
        "            nn.ReLU(inplace=True)\n",
        "        )\n",
        "\n",
        "    def encoder(self, x):\n",
        "        # The skip connections are taken after each stage that reduces spatial resolution\n",
        "        x1 = self.encoder_stem(x)\n",
        "        x2_temp = self.encoder_stage1(x1)\n",
        "        x2 = self.encoder_stage2(x2_temp)\n",
        "        x3 = self.encoder_stage3(x2)\n",
        "        x4 = self.encoder_stage4(x3)\n",
        "        x5 = self.encoder_stage5(x4)\n",
        "        return x5, x4, x3, x2, x1\n",
        "\n",
        "    def decoder(self, x5, x4, x3, x2, x1):\n",
        "        # This function remains mostly the same, padding handles size mismatches.\n",
        "        up1_out = self.up1_upsample(x5)\n",
        "        diffY = x4.size()[2] - up1_out.size()[2]\n",
        "        diffX = x4.size()[3] - up1_out.size()[3]\n",
        "        up1_out = F.pad(up1_out, [diffX // 2, diffX - diffX // 2, diffY // 2, diffY - diffY // 2])\n",
        "        x = torch.cat([x4, up1_out], dim=1)\n",
        "        x = self.up1_conv(x)\n",
        "\n",
        "        up2_out = self.up2_upsample(x)\n",
        "        diffY = x3.size()[2] - up2_out.size()[2]\n",
        "        diffX = x3.size()[3] - up2_out.size()[3]\n",
        "        up2_out = F.pad(up2_out, [diffX // 2, diffX - diffX // 2, diffY // 2, diffY - diffY // 2])\n",
        "        x = torch.cat([x3, up2_out], dim=1)\n",
        "        x = self.up2_conv(x)\n",
        "\n",
        "        up3_out = self.up3_upsample(x)\n",
        "        diffY = x2.size()[2] - up3_out.size()[2]\n",
        "        diffX = x2.size()[3] - up3_out.size()[3]\n",
        "        up3_out = F.pad(up3_out, [diffX // 2, diffX - diffX // 2, diffY // 2, diffY - diffY // 2])\n",
        "        x = torch.cat([x2, up3_out], dim=1)\n",
        "        x = self.up3_conv(x)\n",
        "\n",
        "        up4_out = self.up4_upsample(x)\n",
        "        diffY = x1.size()[2] - up4_out.size()[2]\n",
        "        diffX = x1.size()[3] - up4_out.size()[3]\n",
        "        up4_out = F.pad(up4_out, [diffX // 2, diffX - diffX // 2, diffY // 2, diffY - diffY // 2])\n",
        "        x = torch.cat([x1, up4_out], dim=1)\n",
        "        x = self.up4_conv(x)\n",
        "\n",
        "        x = self.up_final(x)\n",
        "        return self.outc(x)\n",
        "\n",
        "    def forward(self, x):\n",
        "        x5, x4, x3, x2, x1 = self.encoder(x)\n",
        "        return self.decoder(x5, x4, x3, x2, x1)"
      ]
    },
    {
      "cell_type": "markdown",
      "metadata": {
        "id": "uEE-0zscS0rR"
      },
      "source": [
        "### ResNetLib"
      ]
    },
    {
      "cell_type": "code",
      "execution_count": 6,
      "metadata": {
        "id": "iDk64ZeDS_AK"
      },
      "outputs": [
        {
          "name": "stdout",
          "output_type": "stream",
          "text": [
            "Requirement already satisfied: segmentation-models-pytorch in c:\\users\\thinh\\documents\\forest\\sen1\\sen1\\.venv\\lib\\site-packages (0.5.0)\n",
            "Requirement already satisfied: huggingface-hub>=0.24 in c:\\users\\thinh\\documents\\forest\\sen1\\sen1\\.venv\\lib\\site-packages (from segmentation-models-pytorch) (0.34.3)\n",
            "Requirement already satisfied: numpy>=1.19.3 in c:\\users\\thinh\\documents\\forest\\sen1\\sen1\\.venv\\lib\\site-packages (from segmentation-models-pytorch) (2.2.6)\n",
            "Requirement already satisfied: pillow>=8 in c:\\users\\thinh\\documents\\forest\\sen1\\sen1\\.venv\\lib\\site-packages (from segmentation-models-pytorch) (11.3.0)\n",
            "Requirement already satisfied: safetensors>=0.3.1 in c:\\users\\thinh\\documents\\forest\\sen1\\sen1\\.venv\\lib\\site-packages (from segmentation-models-pytorch) (0.5.3)\n",
            "Requirement already satisfied: timm>=0.9 in c:\\users\\thinh\\documents\\forest\\sen1\\sen1\\.venv\\lib\\site-packages (from segmentation-models-pytorch) (1.0.19)\n",
            "Requirement already satisfied: torch>=1.8 in c:\\users\\thinh\\documents\\forest\\sen1\\sen1\\.venv\\lib\\site-packages (from segmentation-models-pytorch) (2.7.1)\n",
            "Requirement already satisfied: torchvision>=0.9 in c:\\users\\thinh\\documents\\forest\\sen1\\sen1\\.venv\\lib\\site-packages (from segmentation-models-pytorch) (0.22.1)\n",
            "Requirement already satisfied: tqdm>=4.42.1 in c:\\users\\thinh\\documents\\forest\\sen1\\sen1\\.venv\\lib\\site-packages (from segmentation-models-pytorch) (4.67.1)\n",
            "Requirement already satisfied: filelock in c:\\users\\thinh\\documents\\forest\\sen1\\sen1\\.venv\\lib\\site-packages (from huggingface-hub>=0.24->segmentation-models-pytorch) (3.18.0)\n",
            "Requirement already satisfied: fsspec>=2023.5.0 in c:\\users\\thinh\\documents\\forest\\sen1\\sen1\\.venv\\lib\\site-packages (from huggingface-hub>=0.24->segmentation-models-pytorch) (2025.7.0)\n",
            "Requirement already satisfied: packaging>=20.9 in c:\\users\\thinh\\documents\\forest\\sen1\\sen1\\.venv\\lib\\site-packages (from huggingface-hub>=0.24->segmentation-models-pytorch) (25.0)\n",
            "Requirement already satisfied: pyyaml>=5.1 in c:\\users\\thinh\\documents\\forest\\sen1\\sen1\\.venv\\lib\\site-packages (from huggingface-hub>=0.24->segmentation-models-pytorch) (6.0.2)\n",
            "Requirement already satisfied: requests in c:\\users\\thinh\\documents\\forest\\sen1\\sen1\\.venv\\lib\\site-packages (from huggingface-hub>=0.24->segmentation-models-pytorch) (2.32.4)\n",
            "Requirement already satisfied: typing-extensions>=3.7.4.3 in c:\\users\\thinh\\documents\\forest\\sen1\\sen1\\.venv\\lib\\site-packages (from huggingface-hub>=0.24->segmentation-models-pytorch) (4.14.1)\n",
            "Requirement already satisfied: sympy>=1.13.3 in c:\\users\\thinh\\documents\\forest\\sen1\\sen1\\.venv\\lib\\site-packages (from torch>=1.8->segmentation-models-pytorch) (1.14.0)\n",
            "Requirement already satisfied: networkx in c:\\users\\thinh\\documents\\forest\\sen1\\sen1\\.venv\\lib\\site-packages (from torch>=1.8->segmentation-models-pytorch) (3.5)\n",
            "Requirement already satisfied: jinja2 in c:\\users\\thinh\\documents\\forest\\sen1\\sen1\\.venv\\lib\\site-packages (from torch>=1.8->segmentation-models-pytorch) (3.1.6)\n",
            "Requirement already satisfied: setuptools in c:\\users\\thinh\\documents\\forest\\sen1\\sen1\\.venv\\lib\\site-packages (from torch>=1.8->segmentation-models-pytorch) (80.9.0)\n",
            "Requirement already satisfied: mpmath<1.4,>=1.1.0 in c:\\users\\thinh\\documents\\forest\\sen1\\sen1\\.venv\\lib\\site-packages (from sympy>=1.13.3->torch>=1.8->segmentation-models-pytorch) (1.3.0)\n",
            "Requirement already satisfied: colorama in c:\\users\\thinh\\documents\\forest\\sen1\\sen1\\.venv\\lib\\site-packages (from tqdm>=4.42.1->segmentation-models-pytorch) (0.4.6)\n",
            "Requirement already satisfied: MarkupSafe>=2.0 in c:\\users\\thinh\\documents\\forest\\sen1\\sen1\\.venv\\lib\\site-packages (from jinja2->torch>=1.8->segmentation-models-pytorch) (3.0.2)\n",
            "Requirement already satisfied: charset_normalizer<4,>=2 in c:\\users\\thinh\\documents\\forest\\sen1\\sen1\\.venv\\lib\\site-packages (from requests->huggingface-hub>=0.24->segmentation-models-pytorch) (3.4.2)\n",
            "Requirement already satisfied: idna<4,>=2.5 in c:\\users\\thinh\\documents\\forest\\sen1\\sen1\\.venv\\lib\\site-packages (from requests->huggingface-hub>=0.24->segmentation-models-pytorch) (3.10)\n",
            "Requirement already satisfied: urllib3<3,>=1.21.1 in c:\\users\\thinh\\documents\\forest\\sen1\\sen1\\.venv\\lib\\site-packages (from requests->huggingface-hub>=0.24->segmentation-models-pytorch) (2.5.0)\n",
            "Requirement already satisfied: certifi>=2017.4.17 in c:\\users\\thinh\\documents\\forest\\sen1\\sen1\\.venv\\lib\\site-packages (from requests->huggingface-hub>=0.24->segmentation-models-pytorch) (2025.7.14)\n"
          ]
        }
      ],
      "source": [
        "!pip install segmentation-models-pytorch"
      ]
    },
    {
      "cell_type": "code",
      "execution_count": 19,
      "metadata": {
        "id": "IFZVM5Z8TEug"
      },
      "outputs": [],
      "source": [
        "import segmentation_models_pytorch as smp\n",
        "#using backbone\n",
        "resmodel = smp.Unet(\n",
        "    encoder_name=\"resnet50\",#i know we were supposed to use resnet 50 but that took up too much ram\n",
        "    #messed around with the params a little\n",
        "    encoder_weights=\"imagenet\",\n",
        "    in_channels=3,\n",
        "    classes=4,\n",
        "    activation=None,\n",
        "    decoder_attention_type=\"scse\"\n",
        ")"
      ]
    },
    {
      "cell_type": "markdown",
      "metadata": {
        "id": "BO13nd2FWIAB"
      },
      "source": [
        "### Training Functions"
      ]
    },
    {
      "cell_type": "code",
      "execution_count": 9,
      "metadata": {
        "id": "iu8bD5dZXvS7"
      },
      "outputs": [],
      "source": [
        "def train_fn(loader, model, optimizer, loss_fn, scaler):\n",
        "    loop = tqdm(loader)\n",
        "    total_loss = 0.0  # Initialize total loss for the epoch\n",
        "\n",
        "    for batch_idx, (data, targets) in enumerate(loop):\n",
        "        data = data.to(DEVICE)\n",
        "        targets = targets.long().to(DEVICE) # Change dtype to long and remove unsqueeze(1)\n",
        "\n",
        "        # forward\n",
        "        with torch.cuda.amp.autocast():\n",
        "            predictions = model(data)\n",
        "            loss = loss_fn(predictions, targets)\n",
        "\n",
        "        # backward\n",
        "        optimizer.zero_grad()\n",
        "        scaler.scale(loss).backward()\n",
        "        scaler.step(optimizer)\n",
        "        scaler.update()\n",
        "\n",
        "        # update tqdm loop\n",
        "        loop.set_postfix(loss=loss.item())\n",
        "\n",
        "        total_loss += loss.item()  # Accumulate loss for the epoch\n",
        "\n",
        "    avg_loss = total_loss / len(loader)  # Calculate average loss for the epoch\n",
        "    return avg_loss # Return the average training loss for the epoch"
      ]
    },
    {
      "cell_type": "code",
      "execution_count": 10,
      "metadata": {
        "id": "2c1ff534"
      },
      "outputs": [],
      "source": [
        "def check_accuracy(loader, model, loss_fn, device=\"cuda\"):\n",
        "    num_correct = 0\n",
        "    num_pixels = 0\n",
        "    dice_score = 0\n",
        "    iou_score = 0\n",
        "    total_loss = 0\n",
        "    true_positives = 0\n",
        "    false_positives = 0\n",
        "    false_negatives = 0\n",
        "\n",
        "    model.eval()\n",
        "\n",
        "    with torch.no_grad():\n",
        "        for x, y in loader:\n",
        "            x = x.to(device)\n",
        "            y = y.to(device).long() # Change dtype to long and remove unsqueeze(1)\n",
        "            predictions = model(x)\n",
        "            loss = loss_fn(predictions, y)\n",
        "            total_loss += loss.item()\n",
        "\n",
        "            preds = torch.argmax(predictions, dim=1) # Use argmax for multi-class predictions\n",
        "\n",
        "            # Calculate True Positives, False Positives, False Negatives for each class and sum them up\n",
        "            for class_idx in range(predictions.shape[1]):\n",
        "                true_positives += ((preds == class_idx) & (y == class_idx)).sum().item()\n",
        "                false_positives += ((preds == class_idx) & (y != class_idx)).sum().item()\n",
        "                false_negatives += ((preds != class_idx) & (y == class_idx)).sum().item()\n",
        "\n",
        "\n",
        "            num_correct += (preds == y).sum()\n",
        "            num_pixels += torch.numel(preds)\n",
        "\n",
        "            # Calculate Dice and IoU per class and average them\n",
        "            dice_per_class = []\n",
        "            iou_per_class = []\n",
        "            for class_idx in range(predictions.shape[1]):\n",
        "                intersection = ((preds == class_idx) & (y == class_idx)).sum().item()\n",
        "                union = ((preds == class_idx) | (y == class_idx)).sum().item()\n",
        "                if union > 0:\n",
        "                    iou_per_class.append(intersection / union)\n",
        "                if (preds == class_idx).sum().item() + (y == class_idx).sum().item() > 0:\n",
        "                    dice_per_class.append((2 * intersection) / ((preds == class_idx).sum().item() + (y == class_idx).sum().item()))\n",
        "\n",
        "            dice_score += np.mean(dice_per_class) if dice_per_class else 0\n",
        "            iou_score += np.mean(iou_per_class) if iou_per_class else 0\n",
        "\n",
        "\n",
        "    accuracy = num_correct/num_pixels*100\n",
        "    avg_loss = total_loss / len(loader)\n",
        "\n",
        "    # Calculate Precision, Recall, F1 Score\n",
        "    # These metrics are typically calculated per class in multi-class segmentation\n",
        "    # Here we calculate macro-averaged metrics\n",
        "    precision = true_positives / (true_positives + false_positives + 1e-8)\n",
        "    recall = true_positives / (true_positives + false_negatives + 1e-8)\n",
        "    f1_score = 2 * (precision * recall) / (precision + recall + 1e-8)\n",
        "\n",
        "    print(f\"Got {num_correct}/{num_pixels} with acc {accuracy:.2f}\")\n",
        "    print(f\"Dice score: {dice_score/len(loader)}\")\n",
        "    print(f\"IoU score: {iou_score/len(loader)}\")\n",
        "    print(f\"Validation Loss: {avg_loss:.4f}\")\n",
        "    print(f\"Precision: {precision:.4f}\")\n",
        "    print(f\"Recall: {recall:.4f}\")\n",
        "    print(f\"F1 Score: {f1_score:.4f}\")\n",
        "\n",
        "\n",
        "    model.train()\n",
        "    return accuracy.cpu(), (dice_score/len(loader)), (iou_score/len(loader)), avg_loss, precision, recall, f1_score"
      ]
    },
    {
      "cell_type": "markdown",
      "metadata": {
        "id": "9cqWvQnTYeAw"
      },
      "source": [
        "### Feeding"
      ]
    },
    {
      "cell_type": "code",
      "execution_count": 27,
      "metadata": {
        "colab": {
          "base_uri": "https://localhost:8080/"
        },
        "id": "dd612f34",
        "outputId": "2ddf6da9-30b0-42e5-ea3e-f23478332c11"
      },
      "outputs": [
        {
          "name": "stderr",
          "output_type": "stream",
          "text": [
            "C:\\Users\\thinh\\AppData\\Local\\Temp\\ipykernel_6844\\3507439448.py:10: UserWarning: Argument(s) 'alpha_affine' are not valid for transform ElasticTransform\n",
            "  A.ElasticTransform(p=0.2, alpha=120, sigma=120 * 0.05, alpha_affine=120 * 0.03), # Add elastic transform\n",
            "C:\\Users\\thinh\\AppData\\Local\\Temp\\ipykernel_6844\\3507439448.py:61: FutureWarning: `torch.cuda.amp.GradScaler(args...)` is deprecated. Please use `torch.amp.GradScaler('cuda', args...)` instead.\n",
            "  scaler = torch.cuda.amp.GradScaler()\n"
          ]
        },
        {
          "name": "stdout",
          "output_type": "stream",
          "text": [
            "Epoch 1/8\n"
          ]
        },
        {
          "name": "stderr",
          "output_type": "stream",
          "text": [
            "  0%|          | 0/18 [00:00<?, ?it/s]C:\\Users\\thinh\\AppData\\Local\\Temp\\ipykernel_6844\\1186724272.py:10: FutureWarning: `torch.cuda.amp.autocast(args...)` is deprecated. Please use `torch.amp.autocast('cuda', args...)` instead.\n",
            "  with torch.cuda.amp.autocast():\n",
            "100%|██████████| 18/18 [01:14<00:00,  4.16s/it, loss=1.36]\n"
          ]
        },
        {
          "name": "stdout",
          "output_type": "stream",
          "text": [
            "Got 38717/619520 with acc 6.25\n",
            "Dice score: 0.035527017634220316\n",
            "IoU score: 0.01875938879737829\n",
            "Validation Loss: 1.3796\n",
            "Precision: 0.0625\n",
            "Recall: 0.0625\n",
            "F1 Score: 0.0625\n",
            "Epoch 2/8\n"
          ]
        },
        {
          "name": "stderr",
          "output_type": "stream",
          "text": [
            "100%|██████████| 18/18 [00:52<00:00,  2.90s/it, loss=1.32]\n"
          ]
        },
        {
          "name": "stdout",
          "output_type": "stream",
          "text": [
            "Got 314590/619520 with acc 50.78\n",
            "Dice score: 0.19024357698019573\n",
            "IoU score: 0.13957146649840949\n",
            "Validation Loss: 1.3291\n",
            "Precision: 0.5078\n",
            "Recall: 0.5078\n",
            "F1 Score: 0.5078\n",
            "Epoch 3/8\n"
          ]
        },
        {
          "name": "stderr",
          "output_type": "stream",
          "text": [
            "100%|██████████| 18/18 [00:51<00:00,  2.84s/it, loss=1.24]\n"
          ]
        },
        {
          "name": "stdout",
          "output_type": "stream",
          "text": [
            "Got 463851/619520 with acc 74.87\n",
            "Dice score: 0.2535337350337296\n",
            "IoU score: 0.20969436815736628\n",
            "Validation Loss: 1.2521\n",
            "Precision: 0.7487\n",
            "Recall: 0.7487\n",
            "F1 Score: 0.7487\n",
            "Epoch 4/8\n"
          ]
        },
        {
          "name": "stderr",
          "output_type": "stream",
          "text": [
            "100%|██████████| 18/18 [01:01<00:00,  3.39s/it, loss=1.23]\n"
          ]
        },
        {
          "name": "stdout",
          "output_type": "stream",
          "text": [
            "Got 500773/619520 with acc 80.83\n",
            "Dice score: 0.2719635855460185\n",
            "IoU score: 0.2295514925285854\n",
            "Validation Loss: 1.1969\n",
            "Precision: 0.8083\n",
            "Recall: 0.8083\n",
            "F1 Score: 0.8083\n",
            "Epoch 5/8\n"
          ]
        },
        {
          "name": "stderr",
          "output_type": "stream",
          "text": [
            "100%|██████████| 18/18 [00:51<00:00,  2.88s/it, loss=1.16]\n"
          ]
        },
        {
          "name": "stdout",
          "output_type": "stream",
          "text": [
            "Got 535099/619520 with acc 86.37\n",
            "Dice score: 0.29314429858799235\n",
            "IoU score: 0.2516143440468005\n",
            "Validation Loss: 1.1526\n",
            "Precision: 0.8637\n",
            "Recall: 0.8637\n",
            "F1 Score: 0.8637\n",
            "Epoch 6/8\n"
          ]
        },
        {
          "name": "stderr",
          "output_type": "stream",
          "text": [
            "100%|██████████| 18/18 [00:52<00:00,  2.93s/it, loss=1.12]\n"
          ]
        },
        {
          "name": "stdout",
          "output_type": "stream",
          "text": [
            "Got 571534/619520 with acc 92.25\n",
            "Dice score: 0.30160681510719317\n",
            "IoU score: 0.2666107961768715\n",
            "Validation Loss: 1.1059\n",
            "Precision: 0.9225\n",
            "Recall: 0.9225\n",
            "F1 Score: 0.9225\n",
            "Epoch 7/8\n"
          ]
        },
        {
          "name": "stderr",
          "output_type": "stream",
          "text": [
            "100%|██████████| 18/18 [00:51<00:00,  2.86s/it, loss=1.09]\n"
          ]
        },
        {
          "name": "stdout",
          "output_type": "stream",
          "text": [
            "Got 581702/619520 with acc 93.90\n",
            "Dice score: 0.30128115436894587\n",
            "IoU score: 0.26898506206584444\n",
            "Validation Loss: 1.0706\n",
            "Precision: 0.9390\n",
            "Recall: 0.9390\n",
            "F1 Score: 0.9390\n",
            "Epoch 8/8\n"
          ]
        },
        {
          "name": "stderr",
          "output_type": "stream",
          "text": [
            "100%|██████████| 18/18 [00:51<00:00,  2.85s/it, loss=1.06]\n"
          ]
        },
        {
          "name": "stdout",
          "output_type": "stream",
          "text": [
            "Got 589717/619520 with acc 95.19\n",
            "Dice score: 0.28990882111625615\n",
            "IoU score: 0.26393207546687686\n",
            "Validation Loss: 1.0371\n",
            "Precision: 0.9519\n",
            "Recall: 0.9519\n",
            "F1 Score: 0.9519\n"
          ]
        }
      ],
      "source": [
        "DATASET_MEAN = [-14.89, -21.54, -0.7]  # Example for a 3-channel (VV, VH, Ratio) image - Needs adjustment based on actual data\n",
        "DATASET_STD = [4.21, 5.05, 0.3]      # Example for a 3-channel (VV, VH, Ratio) image - Needs adjustment based on actual data\n",
        "\n",
        "train_transform = A.Compose(\n",
        "    [\n",
        "        # A.Resize(height=IMAGE_HEIGHT, width=IMAGE_WIDTH),\n",
        "        A.Rotate(limit=35, p=1.0),\n",
        "        A.HorizontalFlip(p=0.5),\n",
        "        A.VerticalFlip(p=0.1),\n",
        "        A.ElasticTransform(p=0.2, alpha=120, sigma=120 * 0.05, alpha_affine=120 * 0.03), # Add elastic transform\n",
        "        A.RandomBrightnessContrast(p=0.2), # Add brightness/contrast changes\n",
        "        A.Normalize(\n",
        "            mean=DATASET_MEAN,\n",
        "            std=DATASET_STD,\n",
        "            max_pixel_value=1.0,  # Set to 1.0 for float data like decibels\n",
        "        ),\n",
        "        ToTensorV2(),\n",
        "    ]\n",
        ")\n",
        "\n",
        "val_transforms = A.Compose(\n",
        "    [\n",
        "        ToTensorV2(),\n",
        "    ],\n",
        ")\n",
        "\n",
        "\n",
        "train_ds = SentinelDataset(\n",
        "    root_dir=TRAIN_DIR,\n",
        "    transform=train_transform,\n",
        ")\n",
        "\n",
        "val_ds = SentinelDataset(\n",
        "    root_dir=TEST_DIR,\n",
        "    transform=val_transforms,\n",
        ")\n",
        "\n",
        "train_loader = DataLoader(\n",
        "    train_ds,\n",
        "    batch_size=BATCH_SIZE,\n",
        "    num_workers=0,\n",
        "    pin_memory=PIN_MEMORY,\n",
        "    shuffle=True,\n",
        ")\n",
        "\n",
        "val_loader = DataLoader(\n",
        "    val_ds,\n",
        "    batch_size=BATCH_SIZE,\n",
        "    num_workers=0,\n",
        "    pin_memory=PIN_MEMORY,\n",
        "    shuffle=False,\n",
        ")\n",
        "\n",
        "\n",
        "resnetModel = ResNetNetwork(n_channels=3, n_classes=4).to(DEVICE)\n",
        "efficientNetModel = EfficientNetNetwork(n_channels=3, n_classes=4).to(DEVICE)\n",
        "model = resnetModel\n",
        "\n",
        "optimizer = optim.Adam(model.parameters(), lr=LEARNING_RATE, weight_decay=1e-5) # Add weight_decay\n",
        "loss_fn = nn.CrossEntropyLoss()\n",
        "scaler = torch.cuda.amp.GradScaler()\n",
        "scheduler = ReduceLROnPlateau(optimizer, 'min', factor=0.1, patience=2)\n",
        "\n",
        "\n",
        "# Lists to store metrics for plotting\n",
        "train_losses = []\n",
        "val_accuracies = []\n",
        "val_dice_scores = []\n",
        "val_iou_scores = []\n",
        "val_losses = []\n",
        "val_precisions = []  # List to store validation precisions\n",
        "val_recalls = []  # List to store validation recalls\n",
        "val_f1_scores = []  # List to store validation F1 scores\n",
        "\n",
        "\n",
        "for epoch in range(NUM_EPOCHS):\n",
        "    print(f\"Epoch {epoch+1}/{NUM_EPOCHS}\")\n",
        "    train_loss = train_fn(train_loader, model, optimizer, loss_fn, scaler)\n",
        "    train_losses.append(train_loss) # Store the training loss\n",
        "\n",
        "    accuracy, dice_score, iou_score, val_loss, precision, recall, f1_score = check_accuracy(val_loader, model, loss_fn, device=DEVICE)\n",
        "\n",
        "    val_accuracies.append(accuracy)\n",
        "    val_dice_scores.append(dice_score)\n",
        "    val_iou_scores.append(iou_score)\n",
        "    val_losses.append(val_loss)\n",
        "    val_precisions.append(precision)  # Store validation precision\n",
        "    val_recalls.append(recall)  # Store validation recall\n",
        "    val_f1_scores.append(f1_score)  # Store validation F1 score\n",
        "\n",
        "    scheduler.step(val_loss)\n",
        "\n",
        "\n",
        "torch.save(model.state_dict(), \"unet_resnet50.pth\")"
      ]
    },
    {
      "cell_type": "markdown",
      "metadata": {
        "id": "e2Ez7FsPYCTD"
      },
      "source": [
        "# Evaluate &  Plotting"
      ]
    },
    {
      "cell_type": "code",
      "execution_count": 15,
      "metadata": {
        "colab": {
          "base_uri": "https://localhost:8080/",
          "height": 504
        },
        "id": "IlV6ISFoP03J",
        "outputId": "4412ee48-4426-4ff5-c188-c318fc4b4afb"
      },
      "outputs": [
        {
          "data": {
            "image/png": "[encoded data removed]",
            "text/plain": [
              "<Figure size 1000x500 with 1 Axes>"
            ]
          },
          "metadata": {},
          "output_type": "display_data"
        },
        {
          "data": {
            "text/plain": [
              "<Figure size 640x480 with 0 Axes>"
            ]
          },
          "metadata": {},
          "output_type": "display_data"
        }
      ],
      "source": [
        "import matplotlib.pyplot as plt\n",
        "\n",
        "# Plotting the training loss\n",
        "plt.figure(figsize=(10, 5))\n",
        "plt.plot(train_losses, label='Training Loss')\n",
        "plt.plot(val_losses, label='Validating Loss')\n",
        "plt.xlabel('Epoch')\n",
        "plt.ylabel('Loss')\n",
        "plt.title('Training Loss per Epoch')\n",
        "plt.legend()\n",
        "plt.grid(True)\n",
        "plt.show()\n",
        "plt.savefig('Training Loss.png')"
      ]
    },
    {
      "cell_type": "code",
      "execution_count": 16,
      "metadata": {
        "colab": {
          "base_uri": "https://localhost:8080/",
          "height": 504
        },
        "id": "tnA3beSJMSi9",
        "outputId": "846d97dd-a29d-4577-bb78-dc731cbfec9e"
      },
      "outputs": [
        {
          "data": {
            "image/png": "[encoded data removed]",
            "text/plain": [
              "<Figure size 1000x500 with 1 Axes>"
            ]
          },
          "metadata": {},
          "output_type": "display_data"
        },
        {
          "data": {
            "text/plain": [
              "<Figure size 640x480 with 0 Axes>"
            ]
          },
          "metadata": {},
          "output_type": "display_data"
        }
      ],
      "source": [
        "import matplotlib.pyplot as plt\n",
        "\n",
        "# Plotting the validation metrics\n",
        "epochs = range(1, NUM_EPOCHS + 1)\n",
        "\n",
        "plt.figure(figsize=(10, 5))\n",
        "plt.plot(epochs, val_dice_scores, label='Validation Dice Score')\n",
        "plt.plot(epochs, val_iou_scores, label='Validation IoU Score')\n",
        "plt.plot(epochs, val_precisions, label='Validation Precision')  # Plot validation precision\n",
        "plt.plot(epochs, val_recalls, label='Validation Recall')  # Plot validation recall\n",
        "plt.plot(epochs, val_f1_scores, label='Validation F1 Score')  # Plot validation F1 score\n",
        "plt.xlabel('Epoch')\n",
        "plt.ylabel('Score')\n",
        "plt.title('Validation Metrics per Epoch')\n",
        "plt.legend()\n",
        "plt.grid(True)\n",
        "plt.show()\n",
        "plt.savefig('Metrics.png')"
      ]
    },
    {
      "cell_type": "code",
      "execution_count": 17,
      "metadata": {
        "colab": {
          "base_uri": "https://localhost:8080/",
          "height": 504
        },
        "id": "Sq9UfWFC4RUa",
        "outputId": "978e4974-b1c1-4ced-8ea0-06cf14ce9627"
      },
      "outputs": [
        {
          "data": {
            "image/png": "[encoded data removed]",
            "text/plain": [
              "<Figure size 1000x500 with 1 Axes>"
            ]
          },
          "metadata": {},
          "output_type": "display_data"
        },
        {
          "data": {
            "text/plain": [
              "<Figure size 640x480 with 0 Axes>"
            ]
          },
          "metadata": {},
          "output_type": "display_data"
        }
      ],
      "source": [
        "\n",
        "plt.figure(figsize=(10, 5))\n",
        "plt.plot(epochs, val_accuracies, label='Validation Accuracy')\n",
        "\n",
        "plt.xlabel('Epoch')\n",
        "plt.ylabel('Score')\n",
        "plt.title('Accuracy per Epoch')\n",
        "plt.legend()\n",
        "plt.grid(True)\n",
        "plt.show()\n",
        "plt.savefig('Accuracy.png')"
      ]
    },
    {
      "cell_type": "code",
      "execution_count": 12,
      "metadata": {
        "colab": {
          "base_uri": "https://localhost:8080/"
        },
        "id": "vwb7di4tSa_4",
        "outputId": "f8b65ce0-3083-447a-96e4-330461aaaf64"
      },
      "outputs": [
        {
          "data": {
            "text/plain": [
              "torch.int16"
            ]
          },
          "execution_count": 12,
          "metadata": {},
          "output_type": "execute_result"
        }
      ],
      "source": [
        "train_ds[0][1].dtype"
      ]
    }
  ],
  "metadata": {
    "accelerator": "GPU",
    "colab": {
      "collapsed_sections": [
        "dWNXRiUfV9H2",
        "PgsPGUVDWBOf",
        "BO13nd2FWIAB"
      ],
      "gpuType": "T4",
      "provenance": []
    },
    "kernelspec": {
      "display_name": ".venv",
      "language": "python",
      "name": "python3"
    },
    "language_info": {
      "codemirror_mode": {
        "name": "ipython",
        "version": 3
      },
      "file_extension": ".py",
      "mimetype": "text/x-python",
      "name": "python",
      "nbconvert_exporter": "python",
      "pygments_lexer": "ipython3",
      "version": "3.13.5"
    }
  },
  "nbformat": 4,
  "nbformat_minor": 0
}
